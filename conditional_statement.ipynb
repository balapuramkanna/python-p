{
  "nbformat": 4,
  "nbformat_minor": 0,
  "metadata": {
    "colab": {
      "provenance": []
    },
    "kernelspec": {
      "name": "python3",
      "display_name": "Python 3"
    },
    "language_info": {
      "name": "python"
    }
  },
  "cells": [
    {
      "cell_type": "markdown",
      "source": [
        "# 1)**conditional statements.**\n",
        "\n",
        "   - A conditional statement in Python is a statement that controls how a program handles conditions and makes decisions.\n",
        "\n",
        "\n",
        "   - Conditional statements are also known as decision-making statements.\n",
        "   \n",
        "   - They are a fundamental part of Python programming and can help make code more efficient and easier to read.\n"
      ],
      "metadata": {
        "id": "Gy6KduFXEFYs"
      }
    },
    {
      "cell_type": "markdown",
      "source": [
        "# 2)**if statement**\n",
        "   \n",
        "   - An if statement is a condition statement used to check a condition, and execute it if the condition holds true."
      ],
      "metadata": {
        "id": "q0QWM0_5FALA"
      }
    },
    {
      "cell_type": "code",
      "execution_count": 1,
      "metadata": {
        "colab": {
          "base_uri": "https://localhost:8080/"
        },
        "id": "lV9EsJDNDd1b",
        "outputId": "d9da07e1-6801-43c4-a7bb-68b639d75d69"
      },
      "outputs": [
        {
          "output_type": "stream",
          "name": "stdout",
          "text": [
            "true\n"
          ]
        }
      ],
      "source": [
        "a = 34\n",
        "b = 32\n",
        "if a>b:\n",
        "  print(\"true\")\n",
        "\n",
        "\n"
      ]
    },
    {
      "cell_type": "markdown",
      "source": [
        "# 3)**else statement.**\n",
        "\n",
        "   - The else keyword is used in conditional statements (if statements), and decides what to do if the condition is False."
      ],
      "metadata": {
        "id": "6Dc-SM8pG-Gt"
      }
    },
    {
      "cell_type": "code",
      "source": [
        "a = 56\n",
        "b = 24\n",
        "if a<=b:\n",
        "  print(\"a is small\")\n",
        "else :\n",
        "  print(\"b is small\")"
      ],
      "metadata": {
        "colab": {
          "base_uri": "https://localhost:8080/"
        },
        "id": "-t0txZYhG7jK",
        "outputId": "c32c7be8-e1e7-43a3-8a86-9ec19b4f3227"
      },
      "execution_count": 3,
      "outputs": [
        {
          "output_type": "stream",
          "name": "stdout",
          "text": [
            "b is small\n"
          ]
        }
      ]
    },
    {
      "cell_type": "markdown",
      "source": [
        "# 4)**elif statemant.**\n",
        "\n",
        "  - In Python, elif is short for \"else if\" and is used when the first if statement isn't true, but you want to check for another condition.\n",
        "  \n",
        "  - if statements pair up with elif and else statements to perform a series of checks"
      ],
      "metadata": {
        "id": "imJG0Zl4IZQd"
      }
    },
    {
      "cell_type": "code",
      "source": [
        "num=88\n",
        "if num<0:\n",
        "  print(\"negative\")\n",
        "elif num>0:\n",
        "  print(\"positive\")\n",
        "else:\n",
        "  print(\"zero\")\n"
      ],
      "metadata": {
        "colab": {
          "base_uri": "https://localhost:8080/"
        },
        "id": "FIXF79-vI9Bh",
        "outputId": "86ccf241-7db7-4fb5-be6b-2eab7dbffe78"
      },
      "execution_count": 6,
      "outputs": [
        {
          "output_type": "stream",
          "name": "stdout",
          "text": [
            "positive\n"
          ]
        }
      ]
    },
    {
      "cell_type": "code",
      "source": [],
      "metadata": {
        "id": "GmzDXIOBLkJX"
      },
      "execution_count": null,
      "outputs": []
    },
    {
      "cell_type": "markdown",
      "source": [
        "# 1.**write a program to check given year is leap year or not.**"
      ],
      "metadata": {
        "id": "6Kcin1P0LkxP"
      }
    },
    {
      "cell_type": "code",
      "source": [
        "year=int(input(\"enter a year:\"))\n",
        "\n",
        "if year%4==0:\n",
        "  print(\"leap year\")\n",
        "else :\n",
        "  print(\"not leap year\")"
      ],
      "metadata": {
        "colab": {
          "base_uri": "https://localhost:8080/"
        },
        "id": "mA8YQ08nMM04",
        "outputId": "f7399975-2255-4787-bb35-dcede2a527cc"
      },
      "execution_count": 7,
      "outputs": [
        {
          "output_type": "stream",
          "name": "stdout",
          "text": [
            "enter a year:2023\n",
            "not leap year\n"
          ]
        }
      ]
    },
    {
      "cell_type": "markdown",
      "source": [
        "# 2.**write a python program to find a give number even or odd.**"
      ],
      "metadata": {
        "id": "1yQ12FpZNlb5"
      }
    },
    {
      "cell_type": "code",
      "source": [
        "number=int(input(\"enter a number:\"))\n",
        "if number%2==0 :\n",
        "  print(\"even number\")\n",
        "else :\n",
        "  print(\"odd number\")"
      ],
      "metadata": {
        "colab": {
          "base_uri": "https://localhost:8080/"
        },
        "id": "qzNs0cDSNmUm",
        "outputId": "6063c829-6eca-4d1a-bbf8-35bc1ce3b330"
      },
      "execution_count": 9,
      "outputs": [
        {
          "output_type": "stream",
          "name": "stdout",
          "text": [
            "enter a number:1234\n",
            "even number\n"
          ]
        }
      ]
    },
    {
      "cell_type": "markdown",
      "source": [
        "# 3.**write a python program to chech if a list is empty or not.**"
      ],
      "metadata": {
        "id": "Hh0MDSq9Oy7E"
      }
    },
    {
      "cell_type": "code",
      "source": [
        "list = [1,4,6,8,23]\n",
        "\n",
        "if not list :\n",
        "  print(\"empty list\")\n",
        "else :\n",
        "  print(\"list contains elements\")"
      ],
      "metadata": {
        "colab": {
          "base_uri": "https://localhost:8080/"
        },
        "id": "xVDTCmvbOzhz",
        "outputId": "1d1d3dea-70eb-4252-c6a3-b600598b3248"
      },
      "execution_count": 10,
      "outputs": [
        {
          "output_type": "stream",
          "name": "stdout",
          "text": [
            "list contains elements\n"
          ]
        }
      ]
    },
    {
      "cell_type": "markdown",
      "source": [
        "# 4.**write a python program to claculate grade of a student.**"
      ],
      "metadata": {
        "id": "y3C12zOoPy52"
      }
    },
    {
      "cell_type": "code",
      "source": [
        "marks=int(input(\"enter marks\"))\n",
        "if marks >=90:\n",
        "  print(\"A gread\")\n",
        "elif marks >=80:\n",
        "  print(\"B gread\")\n",
        "elif marks >=70:\n",
        "  print(\"C gread\")\n",
        "elif marks >=60:\n",
        "  print(\"D gread\")\n",
        "elif marks >=50:\n",
        "  print(\"E gread\")\n",
        "else :\n",
        "  print(\"fail\")\n"
      ],
      "metadata": {
        "colab": {
          "base_uri": "https://localhost:8080/"
        },
        "id": "gSNZDLnUPzVg",
        "outputId": "2dbdcf88-27e3-497c-d47b-9a1b40100476"
      },
      "execution_count": 13,
      "outputs": [
        {
          "output_type": "stream",
          "name": "stdout",
          "text": [
            "enter marks59\n",
            "E gread\n"
          ]
        }
      ]
    },
    {
      "cell_type": "markdown",
      "source": [
        "# 5.**write a python code to check whether given word is a palindrome or not.**"
      ],
      "metadata": {
        "id": "vN88CvWJSSgR"
      }
    },
    {
      "cell_type": "code",
      "source": [
        "a=input(\"enter a word \")\n",
        "if a==a[::-1]:\n",
        "  print(\"palidrome\")\n",
        "else :\n",
        "  print(\"no\")"
      ],
      "metadata": {
        "colab": {
          "base_uri": "https://localhost:8080/"
        },
        "id": "tTn-lHUJSSJK",
        "outputId": "5c15bfad-476a-43bb-ec70-f6a5b41fbe94"
      },
      "execution_count": 16,
      "outputs": [
        {
          "output_type": "stream",
          "name": "stdout",
          "text": [
            "enter a word 404\n",
            "palidrome\n"
          ]
        }
      ]
    },
    {
      "cell_type": "markdown",
      "source": [
        "# 6.**write a python program to find the smallest among the three number.**"
      ],
      "metadata": {
        "id": "EY1SzaW3VotP"
      }
    },
    {
      "cell_type": "code",
      "source": [
        "a=int(input(\"enter 1 number:\"))\n",
        "b=int(input(\"enter 2 number:\"))\n",
        "c=int(input(\"enter 3 number:\"))\n",
        "\n",
        "if a<b and a<c:\n",
        "  print(\"a\")\n",
        "elif b<a and b<c:\n",
        "  print(\"b\")\n",
        "else :\n",
        "  print(\"c\")\n"
      ],
      "metadata": {
        "colab": {
          "base_uri": "https://localhost:8080/"
        },
        "id": "pX4ZXO-8V_c4",
        "outputId": "d8362dc2-4963-42ba-a943-e04f39cd8cc8"
      },
      "execution_count": null,
      "outputs": [
        {
          "name": "stdout",
          "output_type": "stream",
          "text": [
            "enter 1 number:22\n",
            "enter 2 number:34\n"
          ]
        }
      ]
    },
    {
      "cell_type": "markdown",
      "source": [
        "# 7.**find the 2 largest number in a list.**"
      ],
      "metadata": {
        "id": "v8BDfF4-Yg6o"
      }
    },
    {
      "cell_type": "code",
      "source": [
        "list = [22,4,2,6,36,2.4]\n",
        "a=sorted(list)(-2)\n",
        "print(a)"
      ],
      "metadata": {
        "id": "s1JtP_IeZUiv"
      },
      "execution_count": null,
      "outputs": []
    },
    {
      "cell_type": "markdown",
      "source": [
        "# 8.**claculate bmi and categorize it underweight, normal and over.**"
      ],
      "metadata": {
        "id": "Ka0F6h0uaoTg"
      }
    },
    {
      "cell_type": "code",
      "source": [
        "h=int(input(\"enter height in cm:\"))\n",
        "w=int(input(\"enter weight in kg:\"))\n",
        "h1=h/100\n",
        "bmi=(w/(h1**2))\n",
        "print(bmi)\n",
        "if bmi<=18.5:\n",
        "  print(\"underweight\")\n",
        "elif bmi<=25:\n",
        "  print(\"normal\")\n",
        "else:\n",
        "  print(\"over wegiht\")\n"
      ],
      "metadata": {
        "id": "aWxCJVpRalIB"
      },
      "execution_count": null,
      "outputs": []
    },
    {
      "cell_type": "markdown",
      "source": [
        "# 9.**to check vote elgibility.**"
      ],
      "metadata": {
        "id": "e8FaqVm6dM5S"
      }
    },
    {
      "cell_type": "code",
      "source": [
        "x=int(input(\"enter a number:\"))\n",
        "if x<=18:\n",
        "  print('not elgible')\n",
        "else :\n",
        "  print('eligible')"
      ],
      "metadata": {
        "id": "1gmoPekLdWYi"
      },
      "execution_count": null,
      "outputs": []
    },
    {
      "cell_type": "markdown",
      "source": [
        "# 10.**to find the person belongs to which group.**\n"
      ],
      "metadata": {
        "id": "X5qYRCTGc0NZ"
      }
    },
    {
      "cell_type": "code",
      "source": [
        "age=int(input(\"enter the age:\"))\n",
        "if age<=22:\n",
        "  print('school group')\n",
        "elif age<=50:\n",
        "  print('work gorup')\n",
        "else :\n",
        "  print('retired group')"
      ],
      "metadata": {
        "id": "CRJGPC9OdH1m"
      },
      "execution_count": null,
      "outputs": []
    }
  ]
}