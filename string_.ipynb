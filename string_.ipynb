{
  "nbformat": 4,
  "nbformat_minor": 0,
  "metadata": {
    "colab": {
      "provenance": []
    },
    "kernelspec": {
      "name": "python3",
      "display_name": "Python 3"
    },
    "language_info": {
      "name": "python"
    }
  },
  "cells": [
    {
      "cell_type": "markdown",
      "source": [
        "# 1)**Define about string.**\n",
        "\n",
        "   - string is a sequence of characters\n",
        "\n",
        "   - In Python, strings are used for representing textual data.\n",
        "   \n",
        "   - A string is a sequence of characters enclosed in either single quotes (‘’) or double quotes (“”).\n",
        "   \n",
        "   - The Python language provides various built-in methods and functionalities to work with strings efficiently."
      ],
      "metadata": {
        "id": "hgiNU79MY6eg"
      }
    },
    {
      "cell_type": "markdown",
      "source": [
        "# 2)**create 10 elements using 'single qoutes' and \"double qoutes\".**"
      ],
      "metadata": {
        "id": "EwjV_9XDZBpC"
      }
    },
    {
      "cell_type": "code",
      "source": [
        "A = 'Asuran movie'\n",
        "\n",
        "print(A)\n",
        "\n",
        "a = \"asuran movie\"\n",
        "\n",
        "print(a)\n",
        "\n",
        "B = '1,2,4,6,8'\n",
        "\n",
        "print(B)\n",
        "\n",
        "b = \"12468\"\n",
        "\n",
        "print(b)\n",
        "\n",
        "C = '152.347'\n",
        "\n",
        "print(C)\n",
        "\n",
        "c = \"13+1j\"\n",
        "\n",
        "print(c)\n",
        "\n",
        "D = 'true'\n",
        "\n",
        "print(D)\n",
        "\n",
        "d = \"false\"\n",
        "\n",
        "print(d)\n",
        "\n",
        "E = 'ram krishna \\n'\n",
        "\n",
        "print(E)\n",
        "\n",
        "e =\"\"\n",
        "\n",
        "print(\"ram \\n krishna\" ,e)\n",
        "\n",
        "F = \"Agent name is vikram and  his  60 old years old \"\n",
        "\n",
        "print(F*3)\n",
        "\n",
        "f = \"Agent name is vikram \\n and  he is 60 old years old \"\n",
        "\n",
        "print(f*10)"
      ],
      "metadata": {
        "colab": {
          "base_uri": "https://localhost:8080/"
        },
        "id": "um_VNJbUcaoP",
        "outputId": "61ebd30a-3793-419f-8b30-6c66c7987c7e"
      },
      "execution_count": 20,
      "outputs": [
        {
          "output_type": "stream",
          "name": "stdout",
          "text": [
            "Asuran movie\n",
            "asuran movie\n",
            "1,2,4,6,8\n",
            "12468\n",
            "152.347\n",
            "13+1j\n",
            "true\n",
            "false\n",
            "ram krishna \n",
            "\n",
            "ram \n",
            " krishna \n",
            "Agent name is vikram and  his  60 old years old Agent name is vikram and  his  60 old years old Agent name is vikram and  his  60 old years old \n",
            "Agent name is vikram \n",
            " and  he is 60 old years old Agent name is vikram \n",
            " and  he is 60 old years old Agent name is vikram \n",
            " and  he is 60 old years old Agent name is vikram \n",
            " and  he is 60 old years old Agent name is vikram \n",
            " and  he is 60 old years old Agent name is vikram \n",
            " and  he is 60 old years old Agent name is vikram \n",
            " and  he is 60 old years old Agent name is vikram \n",
            " and  he is 60 old years old Agent name is vikram \n",
            " and  he is 60 old years old Agent name is vikram \n",
            " and  he is 60 old years old \n"
          ]
        }
      ]
    },
    {
      "cell_type": "code",
      "source": [],
      "metadata": {
        "id": "1zR3k4Q7caXW"
      },
      "execution_count": null,
      "outputs": []
    },
    {
      "cell_type": "markdown",
      "source": [
        "# 3)**Create a string 50 characters and access any 10 using index and slicing.**"
      ],
      "metadata": {
        "id": "cZvHq1snY6pR"
      }
    },
    {
      "cell_type": "code",
      "source": [
        "\n",
        "\n",
        "army = \"9 para sf is an elite force of indian army was raised in 1966 as the 9th parachute commando battalion \"\n",
        "\n",
        "# index\n",
        "\n",
        "print(len(army))\n",
        "\n",
        "print(\"index 0 = \",army[0])\n",
        "print(\"index 5 = \",army[5])\n",
        "print(\"index 2 = \",army[2])\n",
        "print(\"index 3 = \",army[3])\n",
        "print(\"index 36 = \", army [36])\n",
        "print(-47 ,army[-47])\n",
        "print(-1,army[-1])\n",
        "print(99,army[99])\n",
        "print(101,army[101])\n",
        "print(-51,army[-51])\n",
        "\n",
        "# slicing\n",
        "\n",
        "print(army[12:28])\n",
        "print(army[ :67])\n",
        "print(army[78:])\n",
        "print(army[-23:-11])\n",
        "print(army[-92: ])\n",
        "print(army[ :-1])"
      ],
      "metadata": {
        "colab": {
          "base_uri": "https://localhost:8080/"
        },
        "id": "xmN5IgxUcY4p",
        "outputId": "0876515a-0ff9-4d39-b482-7326a7ea0340"
      },
      "execution_count": 61,
      "outputs": [
        {
          "output_type": "stream",
          "name": "stdout",
          "text": [
            "102\n",
            "index 0 =  9\n",
            "index 5 =  a\n",
            "index 2 =  p\n",
            "index 3 =  a\n",
            "index 36 =  n\n",
            "-47 n\n",
            "-1  \n",
            "99 o\n",
            "101  \n",
            "-51 e\n",
            " an elite force \n",
            "9 para sf is an elite force of indian army was raised in 1966 as th\n",
            "hute commando battalion \n",
            "ute commando\n",
            "is an elite force of indian army was raised in 1966 as the 9th parachute commando battalion \n",
            "9 para sf is an elite force of indian army was raised in 1966 as the 9th parachute commando battalion\n"
          ]
        }
      ]
    },
    {
      "cell_type": "code",
      "source": [],
      "metadata": {
        "id": "28BxeJXBcZG2"
      },
      "execution_count": null,
      "outputs": []
    },
    {
      "cell_type": "markdown",
      "source": [
        "# 4)**Explain about string format.**\n",
        "\n",
        "\n",
        "   - **phython string are classified into three types**\n",
        "  \n",
        "   - 1) old style formatting ( % operator).\n",
        "\n",
        "   - 2) format method ( {} ) .\n",
        "\n",
        "   - 3) string interpolation ( f-string )"
      ],
      "metadata": {
        "id": "N63AdR_2Y6s0"
      }
    },
    {
      "cell_type": "code",
      "source": [
        "# 0ld style formatting.\n",
        "\n",
        "name = \"vikram\"\n",
        "age = 60\n",
        "print(\"my name is %s and my age is %d\" %(name,age))\n",
        "\n",
        "# format method\n",
        "\n",
        "name = \"vikram\"\n",
        "age = 60\n",
        "print(\"my name is {} and my age is {}\".format(name,age))\n",
        "\n",
        "# string interpolation\n",
        "\n",
        "name = \"vikram\"\n",
        "age = 60\n",
        "print(f\"my name is {name} and my age is {age}\")\n"
      ],
      "metadata": {
        "colab": {
          "base_uri": "https://localhost:8080/"
        },
        "id": "GOGBmXYAwuQo",
        "outputId": "5466555c-70d9-4d73-c94a-1e579940e170"
      },
      "execution_count": 65,
      "outputs": [
        {
          "output_type": "stream",
          "name": "stdout",
          "text": [
            "my name is vikram and my age is 60\n",
            "my name is vikram and my age is 60\n",
            "my name is vikram and my age is 60\n"
          ]
        }
      ]
    },
    {
      "cell_type": "code",
      "source": [],
      "metadata": {
        "id": "4AnQRhmVwujH"
      },
      "execution_count": null,
      "outputs": []
    },
    {
      "cell_type": "markdown",
      "source": [
        "# 5)**Exlain about string operation**\n",
        "\n",
        "   - 1) concatenation\n",
        "\n",
        " - combining two or more string\n",
        "\n",
        "   - 2)repetition\n",
        "\n",
        " - repeating string multipul times"
      ],
      "metadata": {
        "id": "A4El_5FFxkCI"
      }
    },
    {
      "cell_type": "code",
      "source": [
        "# concatenation\n",
        "\n",
        "A = \"john\"\n",
        "B = \"wick\"\n",
        "\n",
        "c = A + \" \" + B\n",
        "\n",
        "print(c)\n",
        "\n",
        "C = A + B\n",
        "\n",
        "print(C)\n",
        "\n",
        "# repetition\n",
        "\n",
        "x = A +\" \"+ B\n",
        "\n",
        "print(x*10)\n",
        "\n",
        "X = A + B + \"\\n\"\n",
        "\n",
        "print(X*29)"
      ],
      "metadata": {
        "colab": {
          "base_uri": "https://localhost:8080/"
        },
        "id": "6NQBhJrSxkgT",
        "outputId": "8297ab82-0dcb-480a-fa46-9830ca5ac179"
      },
      "execution_count": 71,
      "outputs": [
        {
          "output_type": "stream",
          "name": "stdout",
          "text": [
            "john wick\n",
            "johnwick\n",
            "john wickjohn wickjohn wickjohn wickjohn wickjohn wickjohn wickjohn wickjohn wickjohn wick\n",
            "johnwick\n",
            "johnwick\n",
            "johnwick\n",
            "johnwick\n",
            "johnwick\n",
            "johnwick\n",
            "johnwick\n",
            "johnwick\n",
            "johnwick\n",
            "johnwick\n",
            "johnwick\n",
            "johnwick\n",
            "johnwick\n",
            "johnwick\n",
            "johnwick\n",
            "johnwick\n",
            "johnwick\n",
            "johnwick\n",
            "johnwick\n",
            "johnwick\n",
            "johnwick\n",
            "johnwick\n",
            "johnwick\n",
            "johnwick\n",
            "johnwick\n",
            "johnwick\n",
            "johnwick\n",
            "johnwick\n",
            "johnwick\n",
            "\n"
          ]
        }
      ]
    },
    {
      "cell_type": "code",
      "source": [],
      "metadata": {
        "id": "HHUzetqvxkua"
      },
      "execution_count": null,
      "outputs": []
    },
    {
      "cell_type": "markdown",
      "source": [
        "# 6)**python string methods.**\n",
        "\n",
        "  - python has a set of built-in methods that you can use on strings.\n",
        "\n",
        "\n",
        "capitalize()\n",
        "\n",
        "    Converts the first character to upper case\n",
        "   \n",
        "casefold()\n",
        "  \n",
        "    Converts string into lower case\n",
        "\n",
        "center()\n",
        "\n",
        "\tReturns a centered string\n",
        "\n",
        "count()\n",
        "\n",
        "\tReturns the number of times a specified value occurs in a string\n",
        "\n",
        "encode()\n",
        "\n",
        "\n",
        "    Returns an encoded version of the string\n",
        "\n",
        "endswith()\n",
        "\n",
        "    Returns true if the string ends with the specified value\n",
        "\n",
        "expandtabs()\n",
        "\n",
        "\tSets the tab size of the string\n",
        "\n",
        "find()\n",
        "\n",
        "\tSearches the string for a specified value and returns the position of where it was found\n",
        "\n",
        "format()\n",
        "\n",
        "    Formats specified values in a string\n",
        "\n",
        "format_map()\n",
        "\n",
        "\tFormats specified values in a string\n",
        "\n",
        "index()\n",
        "\n",
        "    Searches the string for a specified value and returns the position of where it was found\n",
        "\n",
        "isalnum()\n",
        "\n",
        "    Returns True if all characters in the string are alphanumeric\n",
        "\n",
        "isalpha()\n",
        "\n",
        "\n",
        "\tReturns True if all characters in the string are in the alphabet\n",
        "\n",
        "isascii()\n",
        "\n",
        "\tReturns True if all characters in the string are ascii characters\n",
        "\n",
        "isdecimal()\n",
        "\n",
        "    eturns True if all characters in the string are digits\n",
        "\n",
        "isidentifier()\n",
        "\n",
        "    Returns True if the string is an identifier\n",
        "\n",
        "islower()\n",
        "\n",
        "    Returns True if all characters in the string are lower case\n",
        "\n",
        "isnumeric()\n",
        "\n",
        "\tReturns True if all characters in the string are numeric\n",
        "\n",
        "isprintable()\n",
        "\n",
        "\tReturns True if all characters in the string are printable\n",
        "\n",
        "isspace()\n",
        "\n",
        "\tReturns True if all characters in the string are whitespaces\n",
        "\n",
        "istitle()\n",
        "\n",
        "\tReturns True if the string follows the rules of a title\n",
        "\n",
        "isupper()\n",
        "\n",
        "\tReturns True if all characters in the string are upper case\n",
        "\n",
        "join()\n",
        "\n",
        "    Converts the elements of an iterable into a string\n",
        "\n",
        "ljust()\n",
        "\n",
        "\tReturns a left justified version of the string\n",
        "\n",
        "lower()\n",
        "\n",
        "\tConverts a string into lower case\n",
        "\n",
        "lstrip()\n",
        "\n",
        "\tReturns a left trim version of the string\n",
        "\n",
        "maketrans()\n",
        "\n",
        "    Returns a translation table to be used in translations\n",
        "\n",
        "partition()\n",
        "\n",
        "    Returns a tuple where the string is parted into three parts\n",
        "\n",
        "replace()\n",
        "\n",
        "    Returns a string where a specified value is replaced with a specified value\n",
        "\n",
        "rfind()\n",
        "\n",
        "\tSearches the string for a specified value and returns the last position of where it was found\n",
        "\n",
        "rindex()\n",
        "\n",
        "    Searches the string for a specified value and returns the last position of where it was found\n",
        "\n",
        "rjust()\n",
        "\n",
        "\tReturns a right justified version of the string\n",
        "\n",
        "rpartition()\n",
        "\n",
        "\tReturns a tuple where the string is parted into three parts\n",
        "\n",
        "rsplit()\n",
        "\n",
        "\tSplits the string at the specified separator, and returns a list\n",
        "\n",
        "rstrip()\n",
        "\n",
        "\tReturns a right trim version of the string\n",
        "\n",
        "split()\n",
        "\n",
        "    Splits the string at the specified separator, and returns a list\n",
        "\n",
        "splitlines()\n",
        "\n",
        "\tSplits the string at line breaks and returns a list\n",
        "\n",
        "startswith()\n",
        "\n",
        "\tReturns true if the string starts with the specified value\n",
        "\n",
        "strip()\n",
        "\n",
        "\tReturns a trimmed version of the string\n",
        "\n",
        "swapcase()\n",
        "\n",
        "\tSwaps cases, lower case becomes upper case and vice versa\n",
        "\n",
        "title()\n",
        "\n",
        "\tConverts the first character of each word to upper case\n",
        "\n",
        "translate()\n",
        "\n",
        "\tReturns a translated string\n",
        "\n",
        "upper()\n",
        "\n",
        "    Converts a string into upper case\n",
        "\n",
        "zfill()\n",
        "\n",
        "\tFills the string with a specified number of 0 values at the beginning\n",
        "\n",
        "\n",
        "\n"
      ],
      "metadata": {
        "id": "8XoLOYUw1tgO"
      }
    },
    {
      "cell_type": "code",
      "source": [
        "# 1) len()\n",
        "\n",
        "A = \"vikram\"\n",
        "\n",
        "print(len(A))\n",
        "\n",
        "# 2) lower()/upper()\n",
        "\n",
        "B = \"LEO das\"\n",
        "\n",
        "print(B.upper())\n",
        "\n",
        "print(B.lower())\n",
        "\n",
        "# 3) strip()\n",
        "\n",
        "C = \"   vikram  \"\n",
        "\n",
        "print(C.strip())\n",
        "\n",
        "# 4) replace()\n",
        "\n",
        "D = \"hello world\"\n",
        "\n",
        "d = D.replace(\"world\", \"python\")\n",
        "\n",
        "print(d)\n",
        "\n",
        "# 5) split()\n",
        "\n",
        "E = \"hello, world\"\n",
        "\n",
        "e = E.split(\",\")\n",
        "\n",
        "print(e)\n",
        "\n",
        "# 6) join()\n",
        "\n",
        "F = \"hello\",\"world\"\n",
        "\n",
        "f = \"-\".join(F)\n",
        "\n",
        "print(f)\n",
        "\n"
      ],
      "metadata": {
        "colab": {
          "base_uri": "https://localhost:8080/"
        },
        "id": "SqO7em-66cMI",
        "outputId": "67e4c6e2-03ed-4449-ebed-96b11b0ce300"
      },
      "execution_count": 84,
      "outputs": [
        {
          "output_type": "stream",
          "name": "stdout",
          "text": [
            "6\n",
            "LEO DAS\n",
            "leo das\n",
            "vikram\n",
            "hello python\n",
            "['hello', ' world']\n",
            "hello-world\n"
          ]
        }
      ]
    },
    {
      "cell_type": "code",
      "source": [],
      "metadata": {
        "id": "YvOWwaHW6dx_"
      },
      "execution_count": null,
      "outputs": []
    },
    {
      "cell_type": "code",
      "source": [],
      "metadata": {
        "id": "5BSkrZlp6clo"
      },
      "execution_count": null,
      "outputs": []
    },
    {
      "cell_type": "code",
      "source": [],
      "metadata": {
        "id": "GC2Qnqju6cbQ"
      },
      "execution_count": null,
      "outputs": []
    }
  ]
}