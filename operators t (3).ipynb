{
 "cells": [
  {
   "cell_type": "markdown",
   "id": "08e6cfed-a040-49e6-bb97-55272f8a8c87",
   "metadata": {},
   "source": [
    "# 1)**explain about operators?**\n",
    "\n",
    "   - in Python programming, Operators in general are used to perform operations on values and variables.\n",
    "\n",
    "     - these are standard symbols used for logical and arithmetic operations. In this article, we will look into different types of Python operators. \n",
    "\n",
    "     - OPERATORS: These are the special symbols. Eg- + , * , /, etc.\n",
    "     - OPERAND: It is the value on which the operator is applied.\n",
    "\n",
    "# 2)**define the types of operators?**\n",
    "\n",
    "   - there are 7 type of operators in python\n",
    "    \n",
    "    - 1.arithmetic operators\n",
    "    - 2.assigment operators\n",
    "    - 3.compassion operators\n",
    "    - 4.logical operators\n",
    "    - 5.identity operators\n",
    "    - 6.membership opperators\n",
    "    - 7.bitwise operators\n",
    "\n",
    "# 3)**explain each and every operators eith 10 examples?**\n",
    " \n",
    "   - 1.arithmetic operators\n",
    "        \n",
    "    - Python Arithmetic operators are used to perform basic mathematical operations like addition, subtraction, multiplication, and division.\n",
    "    \n",
    "     - in Python 3.x the result of division is a floating-point while in Python 2.x division of 2 integers was an integer. To obtain an integer result         in Python 3.x floored (// integer) is used.\n",
    "\r\n",
    "\n"
   ]
  },
  {
   "cell_type": "code",
   "execution_count": 21,
   "id": "2f88f097-3d97-42c4-bd6e-6f3425116f4a",
   "metadata": {},
   "outputs": [
    {
     "name": "stdout",
     "output_type": "stream",
     "text": [
      "18\n",
      "72\n",
      "6\n",
      "2.0\n",
      "2\n",
      "0\n",
      "2985984\n"
     ]
    }
   ],
   "source": [
    "a = 12\n",
    "b = 6\n",
    "\n",
    "print(a+b)\n",
    "print(a*b)\n",
    "print(a-b)\n",
    "print(a/b)\n",
    "print(a//b)\n",
    "print(a%b)\n",
    "print(a**b)\n"
   ]
  },
  {
   "cell_type": "code",
   "execution_count": 29,
   "id": "84f10360-8af3-4dac-9e27-023bd3fecf8b",
   "metadata": {},
   "outputs": [
    {
     "name": "stdout",
     "output_type": "stream",
     "text": [
      "3\n",
      "12.6\n",
      "0\n",
      "1.4\n"
     ]
    }
   ],
   "source": [
    "a = 7\n",
    "b = 9\n",
    "c = 5\n",
    "\n",
    "print(a-b+c)\n",
    "print(a*b/c)\n",
    "print(a//b**c)\n",
    "print(a%b/c)\n"
   ]
  },
  {
   "cell_type": "markdown",
   "id": "34e16649-deec-4cf8-9234-1b96c9cb180f",
   "metadata": {},
   "source": [
    "   - 2.Assignment Operators\n",
    "    \r",
    "    - The assignment operators are used to assign values to variables\n",
    "    \n",
    "    - with the help of assignment operators we will reduce the memory.\n",
    "    \n",
    "    - types of Assignment Operators:\n",
    "\n",
    "    #- =\tAssignment Operators\n",
    "    \n",
    "    - += Addition Assignmen\n",
    "    \r",
    "    - -  \tSubtraction Assignme\n",
    "        3    - *= \tMultiplication Assignm\n",
    "   \n",
    "    - \n",
    "/ \tDivision Assign\n",
    "              - %= =\tRemainder Assig\n",
    "       1    -  \r\n",
    " *=\tExponent Assignment\n",
    "  =):"
   ]
  },
  {
   "cell_type": "code",
   "execution_count": 77,
   "id": "7ef978ef-0746-4e4c-adb8-75c7c3acf7a8",
   "metadata": {},
   "outputs": [
    {
     "name": "stdout",
     "output_type": "stream",
     "text": [
      "9\n",
      "2\n",
      "14\n",
      "12\n",
      "-10\n",
      "-8\n",
      "-18\n",
      "2.8007538972582435e-13\n"
     ]
    }
   ],
   "source": [
    "a = 2\n",
    "b = 7\n",
    "a=a+b\n",
    "\n",
    "print(a)\n",
    "\n",
    "a=a-b\n",
    "\n",
    "print(a)\n",
    "\n",
    "b=a*b\n",
    "\n",
    "print(b)\n",
    "\n",
    "b-=a\n",
    "\n",
    "print(b)\n",
    "\n",
    "b=a-b\n",
    "\n",
    "print(b)\n",
    "\n",
    "a=a%b\n",
    "\n",
    "print(a)\n",
    "\n",
    "a+=b\n",
    "\n",
    "print(a)\n",
    "\n",
    "a=a**b\n",
    "\n",
    "print(a)\n"
   ]
  },
  {
   "cell_type": "markdown",
   "id": "bdb5e690-0af2-47ef-a6c2-d916701773e5",
   "metadata": {},
   "source": [
    "    - 3.comparsion operators\n",
    "\n",
    "    - Comparison operators compare two values/variables and return a boolean result: True or False. \n",
    "\n",
    "    - ==, !=, >, <, >=, <=,.\r\n",
    "\n"
   ]
  },
  {
   "cell_type": "code",
   "execution_count": 123,
   "id": "0b262028-ac8f-4360-be52-fd64bc1d60b8",
   "metadata": {},
   "outputs": [
    {
     "name": "stdout",
     "output_type": "stream",
     "text": [
      "False\n",
      "False\n",
      "True\n",
      "True\n",
      "True\n",
      "False\n"
     ]
    }
   ],
   "source": [
    "a = 8\n",
    "b = 5\n",
    "\n",
    "\n",
    "print(a == b)\n",
    "\n",
    "print(a <= b)\n",
    "\n",
    "print(a != b)\n",
    "\n",
    "print(a >= b)\n",
    "\n",
    "print(a > b)\n",
    "\n",
    "print(a < b)\n"
   ]
  },
  {
   "cell_type": "code",
   "execution_count": 125,
   "id": "3b66f8bb-afe0-440f-9b0b-47bc753e8529",
   "metadata": {},
   "outputs": [
    {
     "name": "stdout",
     "output_type": "stream",
     "text": [
      "True\n"
     ]
    }
   ],
   "source": [
    "a = 75\n",
    "b = 64\n",
    "\n",
    "print( a > b )"
   ]
  },
  {
   "cell_type": "markdown",
   "id": "ac10fcdf-5ee5-4b12-b167-42ad85b0b958",
   "metadata": {},
   "source": [
    "   - 3.logical operaators\n",
    "\n",
    "    -    Logical operators are used to check whether an expression is True or False. They are used in decision-making. \n",
    "\n",
    "    -    Operator  \n",
    "\n",
    "    -   and , or ,not.rs    -  in and operator both lhs & rhs need to satisfy then the output is 'true' other wise 'fales'.\n",
    "\n",
    "    -  in or operator one of the operators is satisfy then the output is 'true' other wise 'fales'.\n",
    "\n",
    "    -  in not operstor it change the output. eg; if output is'true' if we apply not then it become 'false'. a.\r\n",
    "\r\n"
   ]
  },
  {
   "cell_type": "code",
   "execution_count": 155,
   "id": "9a6df0d9-005b-4496-854f-c6809ff6e010",
   "metadata": {},
   "outputs": [
    {
     "data": {
      "text/plain": [
       "False"
      ]
     },
     "execution_count": 155,
     "metadata": {},
     "output_type": "execute_result"
    }
   ],
   "source": [
    "674 > 857 and 467 < 475\n",
    "\n"
   ]
  },
  {
   "cell_type": "code",
   "execution_count": 135,
   "id": "be93e576-a8c1-4e6a-9b4d-f23cfddba5bd",
   "metadata": {},
   "outputs": [
    {
     "data": {
      "text/plain": [
       "True"
      ]
     },
     "execution_count": 135,
     "metadata": {},
     "output_type": "execute_result"
    }
   ],
   "source": [
    "48753 > 47848 or 3789 < 74839"
   ]
  },
  {
   "cell_type": "code",
   "execution_count": 137,
   "id": "e9de54fe-a01d-457f-9685-3155978544a6",
   "metadata": {},
   "outputs": [
    {
     "data": {
      "text/plain": [
       "False"
      ]
     },
     "execution_count": 137,
     "metadata": {},
     "output_type": "execute_result"
    }
   ],
   "source": [
    "748 > 890 or 748 < 683"
   ]
  },
  {
   "cell_type": "code",
   "execution_count": 139,
   "id": "b04ee32a-8677-4b88-89fd-abc6b7577bad",
   "metadata": {},
   "outputs": [
    {
     "data": {
      "text/plain": [
       "True"
      ]
     },
     "execution_count": 139,
     "metadata": {},
     "output_type": "execute_result"
    }
   ],
   "source": [
    "64748 > 8485 & 882 < 388"
   ]
  },
  {
   "cell_type": "code",
   "execution_count": 157,
   "id": "8b745800-e40e-49f9-939c-6a3b29eb5883",
   "metadata": {},
   "outputs": [
    {
     "data": {
      "text/plain": [
       "True"
      ]
     },
     "execution_count": 157,
     "metadata": {},
     "output_type": "execute_result"
    }
   ],
   "source": [
    "not(747 > 647 and 483 < 353)"
   ]
  },
  {
   "cell_type": "code",
   "execution_count": 159,
   "id": "e9c1d2d7-8151-4427-956b-b78d10adc763",
   "metadata": {},
   "outputs": [
    {
     "data": {
      "text/plain": [
       "True"
      ]
     },
     "execution_count": 159,
     "metadata": {},
     "output_type": "execute_result"
    }
   ],
   "source": [
    "not(33678 > 34674 or 45732 < 38839)"
   ]
  },
  {
   "cell_type": "code",
   "execution_count": 163,
   "id": "ab392935-5dde-4560-bbff-6c6bcebc2a5d",
   "metadata": {},
   "outputs": [
    {
     "data": {
      "text/plain": [
       "False"
      ]
     },
     "execution_count": 163,
     "metadata": {},
     "output_type": "execute_result"
    }
   ],
   "source": [
    "688 == 378 or 737 == 838"
   ]
  },
  {
   "cell_type": "code",
   "execution_count": 165,
   "id": "8fad2985-11a4-40ea-957e-3e9d4ec1f8eb",
   "metadata": {},
   "outputs": [
    {
     "data": {
      "text/plain": [
       "False"
      ]
     },
     "execution_count": 165,
     "metadata": {},
     "output_type": "execute_result"
    }
   ],
   "source": [
    "35636 >= 35728 and 272 <= 378"
   ]
  },
  {
   "cell_type": "markdown",
   "id": "4a3b58cc-4e83-48f3-b0cf-1eae02b692d5",
   "metadata": {},
   "source": [
    "   - 5.identity operators\n",
    "\n",
    "    - In Python, is and is not are used to check if two values are located at the same memory location.\n",
    "\n",
    "    - where the values is present or not if present is 'true' if is not 'fales'."
   ]
  },
  {
   "cell_type": "code",
   "execution_count": 5,
   "id": "3a63792b-0232-4945-a8a1-ef0bc3286177",
   "metadata": {},
   "outputs": [
    {
     "name": "stdout",
     "output_type": "stream",
     "text": [
      "False\n",
      "False\n",
      "True\n"
     ]
    }
   ],
   "source": [
    "x = 47\n",
    "y = 54\n",
    "\n",
    "print(x is y)\n",
    "\n",
    "print(y is x) \n",
    "\n",
    "print(x is not y)\n"
   ]
  },
  {
   "cell_type": "code",
   "execution_count": 11,
   "id": "2ae02b76-5834-4cd9-af31-3065944a1223",
   "metadata": {},
   "outputs": [
    {
     "name": "stdout",
     "output_type": "stream",
     "text": [
      "False\n",
      "True\n"
     ]
    }
   ],
   "source": [
    "a = \"Arun\"\n",
    "b = \"arun\"\n",
    "\n",
    "print(a is b)\n",
    "\n",
    "print(a is not b)"
   ]
  },
  {
   "cell_type": "code",
   "execution_count": 15,
   "id": "1f8b4f02-4cb3-4942-84f6-68d961f1792b",
   "metadata": {},
   "outputs": [
    {
     "name": "stdout",
     "output_type": "stream",
     "text": [
      "True\n",
      "False\n"
     ]
    }
   ],
   "source": [
    "m = \"sai\"\n",
    "n = \"sai\"\n",
    "\n",
    "print(m is n)\n",
    "print(m is not n)"
   ]
  },
  {
   "cell_type": "code",
   "execution_count": 17,
   "id": "f923f3b7-d5cb-42c3-a557-ff2bbada5656",
   "metadata": {},
   "outputs": [
    {
     "name": "stdout",
     "output_type": "stream",
     "text": [
      "True\n"
     ]
    }
   ],
   "source": [
    "p = 38\n",
    "q =  38\n",
    "\n",
    "print(p is q)"
   ]
  },
  {
   "cell_type": "markdown",
   "id": "de0b48d7-296a-471d-9c3b-cfe45084831a",
   "metadata": {},
   "source": [
    "\n",
    "   -  6.membership operators\n",
    "\n",
    "     - membership operators are used to test whether a value or variable is found in a seqvence or not.\n",
    "\n",
    "     - in \n",
    "\n",
    "     - not in \n",
    "  "
   ]
  },
  {
   "cell_type": "code",
   "execution_count": 29,
   "id": "edc0545f-27c1-4136-9937-721d45e9164c",
   "metadata": {},
   "outputs": [
    {
     "name": "stdout",
     "output_type": "stream",
     "text": [
      "True\n"
     ]
    }
   ],
   "source": [
    "name= \"rani\"\n",
    "\n",
    "print( \"r\" in name)\n",
    "\n",
    "\n"
   ]
  },
  {
   "cell_type": "code",
   "execution_count": 45,
   "id": "d7502bb8-6e9c-4d07-b67d-4e066818856c",
   "metadata": {},
   "outputs": [
    {
     "name": "stdout",
     "output_type": "stream",
     "text": [
      "True\n",
      "False\n",
      "True\n",
      "False\n",
      "False\n",
      "True\n"
     ]
    }
   ],
   "source": [
    "j = \"shivaji maharaj\"\n",
    "\n",
    "print('v' in j)\n",
    "\n",
    "print('A' in j)\n",
    "\n",
    "print('A' not in j)\n",
    "\n",
    "print('a' not in j)\n",
    "\n",
    "print('z' in j)\n",
    "\n",
    "print('z' not in j)"
   ]
  },
  {
   "cell_type": "markdown",
   "id": "e587a18a-36a1-414d-a4a3-a65ce3456a3e",
   "metadata": {},
   "source": [
    "   - 7.bitwise operators\n",
    "\n",
    "    - bitwise operators are used to compare (binary) numbers:\n",
    "    - Operator    \t Meaning                    \n",
    "    - \n",
    "        &\tBitwise AN         D\n",
    "           \n",
    "    - \r",
    "        \n",
    "|\tBitwise O            \n",
    "           \n",
    "    - )\r",
    "        \n",
    "~\tBitwise      N    \n",
    "           \n",
    "    - 1)        \r\n",
    "^\tBitwise          \n",
    "           \n",
    "    - 10       )\r\n",
    ">>\tBitwise right s    \n",
    "           \n",
    "    - 01        )\r\n",
    "<<\tBitwise left     1000)\r\n",
    "\n",
    "\r\n",
    "\n",
    "\n",
    "    "
   ]
  },
  {
   "cell_type": "code",
   "execution_count": 71,
   "id": "35228094-fb09-4a85-86ee-67a3a1894475",
   "metadata": {},
   "outputs": [
    {
     "name": "stdout",
     "output_type": "stream",
     "text": [
      "6213\n"
     ]
    }
   ],
   "source": [
    "print(7367 & 6733)"
   ]
  },
  {
   "cell_type": "code",
   "execution_count": 73,
   "id": "5fa46ba6-69ab-4f7a-9b64-fdc090ea295f",
   "metadata": {},
   "outputs": [
    {
     "name": "stdout",
     "output_type": "stream",
     "text": [
      "507\n"
     ]
    }
   ],
   "source": [
    "print(235 | 346)"
   ]
  },
  {
   "cell_type": "code",
   "execution_count": 75,
   "id": "9a44edd2-2b73-4dbf-a011-dfc63e77d72b",
   "metadata": {},
   "outputs": [
    {
     "name": "stdout",
     "output_type": "stream",
     "text": [
      "12990\n"
     ]
    }
   ],
   "source": [
    "\n",
    "print(23643 ^ 28389)"
   ]
  },
  {
   "cell_type": "code",
   "execution_count": 77,
   "id": "52c87149-d567-40dd-8c54-8122a2ee06bc",
   "metadata": {},
   "outputs": [
    {
     "name": "stdout",
     "output_type": "stream",
     "text": [
      "0\n"
     ]
    }
   ],
   "source": [
    "print(373 >> 747)"
   ]
  },
  {
   "cell_type": "code",
   "execution_count": 79,
   "id": "5e210706-14e6-494c-8e05-25db35e6b669",
   "metadata": {},
   "outputs": [
    {
     "name": "stdout",
     "output_type": "stream",
     "text": [
      "30805872456605185477267220160475052053640388336534091214007823665647592719841913521679453390951255921168346846379652971224130426963654028753455660527258402561311882352619664083085589489554317032899118273690008615577798081143771456732600938844971555879392189873348808732023735766001295112156966295699456\n"
     ]
    }
   ],
   "source": [
    "print(368 << 993)"
   ]
  },
  {
   "cell_type": "code",
   "execution_count": 91,
   "id": "436a6310-53b5-464c-9a0d-dd1a7fd4a47e",
   "metadata": {},
   "outputs": [
    {
     "data": {
      "text/plain": [
       "'0b1000'"
      ]
     },
     "execution_count": 91,
     "metadata": {},
     "output_type": "execute_result"
    }
   ],
   "source": [
    "a = 15\n",
    "b = 8\n",
    "\n",
    "bin(b)\n",
    "\n"
   ]
  },
  {
   "cell_type": "code",
   "execution_count": 93,
   "id": "7d8d468b-572f-4e7f-9f23-df9762992cbe",
   "metadata": {},
   "outputs": [
    {
     "data": {
      "text/plain": [
       "'0b10111'"
      ]
     },
     "execution_count": 93,
     "metadata": {},
     "output_type": "execute_result"
    }
   ],
   "source": [
    "a = 15 \n",
    "b = 8 \n",
    "\n",
    "bin(a+b)"
   ]
  },
  {
   "cell_type": "code",
   "execution_count": 95,
   "id": "ad7e824c-1b9d-49bf-9c7f-fa2276cd1560",
   "metadata": {},
   "outputs": [
    {
     "data": {
      "text/plain": [
       "'0b1001000'"
      ]
     },
     "execution_count": 95,
     "metadata": {},
     "output_type": "execute_result"
    }
   ],
   "source": [
    "bin(72)"
   ]
  },
  {
   "cell_type": "code",
   "execution_count": null,
   "id": "224d40cc-9126-4f1e-81b9-16682c8141cd",
   "metadata": {},
   "outputs": [],
   "source": []
  }
 ],
 "metadata": {
  "kernelspec": {
   "display_name": "Python 3 (ipykernel)",
   "language": "python",
   "name": "python3"
  },
  "language_info": {
   "codemirror_mode": {
    "name": "ipython",
    "version": 3
   },
   "file_extension": ".py",
   "mimetype": "text/x-python",
   "name": "python",
   "nbconvert_exporter": "python",
   "pygments_lexer": "ipython3",
   "version": "3.12.4"
  }
 },
 "nbformat": 4,
 "nbformat_minor": 5
}
