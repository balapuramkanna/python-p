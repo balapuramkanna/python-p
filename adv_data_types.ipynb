{
  "nbformat": 4,
  "nbformat_minor": 0,
  "metadata": {
    "colab": {
      "provenance": []
    },
    "kernelspec": {
      "name": "python3",
      "display_name": "Python 3"
    },
    "language_info": {
      "name": "python"
    }
  },
  "cells": [
    {
      "cell_type": "markdown",
      "source": [
        "# 1)**Defind about list.**\n",
        " - Lists are used to store multiple items in a single variable.\n",
        "\n",
        " - Lists are one of 4 built-in data types in Python used to store collections of data, the other 3 are Tuple, Set, and Dictionary, all with different qualities and usage.\n",
        "\n",
        " - List items are ordered, changeable, and allow duplicate values.\n",
        "\n",
        " - List items are indexed, the first item has index [0], the second item has index [1] etc.\n",
        "\n",
        " - When we say that lists are ordered, it means that the items have a defined order, and that order will not change.\n",
        "\n",
        " - If you add new items to a list, the new items will be placed at the end of the list.\n"
      ],
      "metadata": {
        "id": "9OHlBK4-cxYf"
      }
    },
    {
      "cell_type": "markdown",
      "source": [
        "# 2)**Create 10 examples storing different data types.**"
      ],
      "metadata": {
        "id": "G5uHmamoczfH"
      }
    },
    {
      "cell_type": "code",
      "source": [
        "A = [7,3,3,3,9,8,4,6,1,7,9]\n"
      ],
      "metadata": {
        "id": "A8yVFtkYfN2w"
      },
      "execution_count": null,
      "outputs": []
    },
    {
      "cell_type": "code",
      "source": [
        "B = [\"o\",\"s\",\"k\",\"i\",\"d\"]"
      ],
      "metadata": {
        "id": "CJ8geb5ofOjo"
      },
      "execution_count": null,
      "outputs": []
    },
    {
      "cell_type": "code",
      "source": [
        "C = [1.7,8.2,6.3,4.9,0.5]"
      ],
      "metadata": {
        "id": "zZNzN_iUfOoA"
      },
      "execution_count": 39,
      "outputs": []
    },
    {
      "cell_type": "code",
      "source": [
        "D = [\"a\",7,\"b\",8,\"c\",32]"
      ],
      "metadata": {
        "id": "XVatIlXefOs3"
      },
      "execution_count": null,
      "outputs": []
    },
    {
      "cell_type": "code",
      "source": [
        "E = [\"APPLE\",\"BANANA\",\"CHERRY\",\"D0G\"]"
      ],
      "metadata": {
        "id": "YoU0acE2fOxH"
      },
      "execution_count": null,
      "outputs": []
    },
    {
      "cell_type": "code",
      "source": [
        "F = [1,2,2,3,3,9,\"a\",\"B\"]"
      ],
      "metadata": {
        "id": "4wHlslAlfO1Z"
      },
      "execution_count": null,
      "outputs": []
    },
    {
      "cell_type": "code",
      "source": [
        "G = [1+1J, 2+0J, 7+1J]"
      ],
      "metadata": {
        "id": "ZZ3bKiUjfO_H"
      },
      "execution_count": null,
      "outputs": []
    },
    {
      "cell_type": "code",
      "source": [
        "H = [True, False, True, False]"
      ],
      "metadata": {
        "id": "V_z2HNUNfPKh"
      },
      "execution_count": null,
      "outputs": []
    },
    {
      "cell_type": "code",
      "source": [
        "I = [\"appLE\", \"BAd\", \"haPPy\", 2, 2 ,6 ,6 ]"
      ],
      "metadata": {
        "id": "tAzYKNb4fPOr"
      },
      "execution_count": null,
      "outputs": []
    },
    {
      "cell_type": "code",
      "source": [
        "J = [1,7+2j,\"aPPle\",21,\"ball\",'c']"
      ],
      "metadata": {
        "id": "isGNpfG3fPWJ"
      },
      "execution_count": 52,
      "outputs": []
    },
    {
      "cell_type": "code",
      "source": [],
      "metadata": {
        "id": "sR-k-yDJfPgw"
      },
      "execution_count": null,
      "outputs": []
    },
    {
      "cell_type": "markdown",
      "source": [
        "# 3)**Create a list with 15 elements you need to access each and every element from list both postive and negitive.**"
      ],
      "metadata": {
        "id": "fE4MXIecjp8a"
      }
    },
    {
      "cell_type": "code",
      "source": [
        "names = [\"ram\",\"raju\",\"sai\",\"ravi\",\"mani\",\"yogesh\",\"pavan\",\"shiva\",\"arun\",\"ganesh\",\"suraj\",\"mallesh\",\"vikram\",\"suresh\",\"ramesh\",\"amar\"]\n",
        "\n",
        "print(names[0])\n",
        "print(names[1])\n",
        "print(names[8])\n",
        "print(names[10])\n",
        "print(names[15])\n",
        "print(names[14])\n",
        "\n",
        "\n",
        "print(names[-1])\n",
        "print(names[-8])\n",
        "print(names[-12])\n",
        "print(names[-14])\n",
        "\n",
        "print(names)"
      ],
      "metadata": {
        "colab": {
          "base_uri": "https://localhost:8080/"
        },
        "id": "J30P1ywukeGA",
        "outputId": "8d5a5770-676c-4e06-aed5-fc51ac5f1f6a"
      },
      "execution_count": 54,
      "outputs": [
        {
          "output_type": "stream",
          "name": "stdout",
          "text": [
            "ram\n",
            "raju\n",
            "arun\n",
            "suraj\n",
            "amar\n",
            "ramesh\n",
            "amar\n",
            "arun\n",
            "mani\n",
            "sai\n",
            "['ram', 'raju', 'sai', 'ravi', 'mani', 'yogesh', 'pavan', 'shiva', 'arun', 'ganesh', 'suraj', 'mallesh', 'vikram', 'suresh', 'ramesh', 'amar']\n"
          ]
        }
      ]
    },
    {
      "cell_type": "code",
      "source": [],
      "metadata": {
        "id": "CUde4cU9keAI"
      },
      "execution_count": null,
      "outputs": []
    },
    {
      "cell_type": "markdown",
      "source": [
        "# 4)**Slicing both positive and negitive.**"
      ],
      "metadata": {
        "id": "dnp5FSZVnyxN"
      }
    },
    {
      "cell_type": "code",
      "source": [
        "my_list = [\"ram\",\"raju\",\"sai\",\"ravi\",\"mani\",\"yogesh\",\"pavan\",\"shiva\",\"arun\",\"ganesh\",\"suraj\",\"mallesh\",\"vikram\",\"suresh\",\"ramesh\",\"amar\"]\n",
        "\n",
        "print(my_list[4:14])\n",
        "\n",
        "print(my_list[ :8])\n",
        "\n",
        "print(my_list[7: ])\n",
        "\n",
        "print(my_list[:])\n",
        "\n",
        "print(my_list[-9:-4])\n",
        "\n",
        "print(my_list[ :-3])\n",
        "\n",
        "print(my_list[-7: ])\n",
        "\n",
        "print(my_list[ :-1])"
      ],
      "metadata": {
        "colab": {
          "base_uri": "https://localhost:8080/"
        },
        "id": "wWJ21DCTkd86",
        "outputId": "b01b4937-4ef8-4063-b56f-79232e1b776e"
      },
      "execution_count": 22,
      "outputs": [
        {
          "output_type": "stream",
          "name": "stdout",
          "text": [
            "['mani', 'yogesh', 'pavan', 'shiva', 'arun', 'ganesh', 'suraj', 'mallesh', 'vikram', 'suresh']\n",
            "['ram', 'raju', 'sai', 'ravi', 'mani', 'yogesh', 'pavan', 'shiva']\n",
            "['shiva', 'arun', 'ganesh', 'suraj', 'mallesh', 'vikram', 'suresh', 'ramesh', 'amar']\n",
            "['ram', 'raju', 'sai', 'ravi', 'mani', 'yogesh', 'pavan', 'shiva', 'arun', 'ganesh', 'suraj', 'mallesh', 'vikram', 'suresh', 'ramesh', 'amar']\n",
            "['shiva', 'arun', 'ganesh', 'suraj', 'mallesh']\n",
            "['ram', 'raju', 'sai', 'ravi', 'mani', 'yogesh', 'pavan', 'shiva', 'arun', 'ganesh', 'suraj', 'mallesh', 'vikram']\n",
            "['ganesh', 'suraj', 'mallesh', 'vikram', 'suresh', 'ramesh', 'amar']\n",
            "['ram', 'raju', 'sai', 'ravi', 'mani', 'yogesh', 'pavan', 'shiva', 'arun', 'ganesh', 'suraj', 'mallesh', 'vikram', 'suresh', 'ramesh']\n"
          ]
        }
      ]
    },
    {
      "cell_type": "code",
      "source": [],
      "metadata": {
        "id": "lktgWqeAkd54"
      },
      "execution_count": null,
      "outputs": []
    },
    {
      "cell_type": "markdown",
      "source": [
        "# 5)**Concatentoin any 5 list.**"
      ],
      "metadata": {
        "id": "zIT_R6Rwr4y2"
      }
    },
    {
      "cell_type": "code",
      "source": [
        "a = [1,2,3,4,5]\n",
        "b = [7,7,9,8,6,]\n",
        "c = a+b\n",
        "print(c)"
      ],
      "metadata": {
        "colab": {
          "base_uri": "https://localhost:8080/"
        },
        "id": "3ZTpMl6tkd2x",
        "outputId": "d832326c-858b-4bc5-d6ca-aa2dc8f0ef9f"
      },
      "execution_count": 23,
      "outputs": [
        {
          "output_type": "stream",
          "name": "stdout",
          "text": [
            "[1, 2, 3, 4, 5, 7, 7, 9, 8, 6]\n"
          ]
        }
      ]
    },
    {
      "cell_type": "code",
      "source": [
        "my_list1 = [\"ram\",\"raju\",\"sai\",\"ravi\",\"mani\",\"yogesh\",\"pavan\",\"shiva\"]\n",
        "my_list2 = [\"arun\",\"ganesh\",\"suraj\",\"mallesh\",\"vikram\",\"suresh\",\"ramesh\",\"amar\"]\n",
        "\n",
        "my_list3 = my_list1 + my_list2\n",
        "print(my_list3)"
      ],
      "metadata": {
        "colab": {
          "base_uri": "https://localhost:8080/"
        },
        "id": "4k_2axnOkdzY",
        "outputId": "ed0cb774-b14a-45ba-fffb-b9d7bc6b2c81"
      },
      "execution_count": 29,
      "outputs": [
        {
          "output_type": "stream",
          "name": "stdout",
          "text": [
            "['ram', 'raju', 'sai', 'ravi', 'mani', 'yogesh', 'pavan', 'shiva', 'arun', 'ganesh', 'suraj', 'mallesh', 'vikram', 'suresh', 'ramesh', 'amar']\n"
          ]
        }
      ]
    },
    {
      "cell_type": "code",
      "source": [
        "a = [\"apple\",\"ball\",\"ball\"]\n",
        "b = [\"cat\",\"dog\",\"cat\"]\n",
        "c = a+b\n",
        "print(c)\n"
      ],
      "metadata": {
        "colab": {
          "base_uri": "https://localhost:8080/"
        },
        "id": "qQQ32JQXkdv6",
        "outputId": "9e7f79d1-396c-4c64-d0ef-8a63f3b96913"
      },
      "execution_count": 31,
      "outputs": [
        {
          "output_type": "stream",
          "name": "stdout",
          "text": [
            "['apple', 'ball', 'ball', 'cat', 'dog', 'cat']\n"
          ]
        }
      ]
    },
    {
      "cell_type": "code",
      "source": [
        "x = ['pen','books','phone']\n",
        "y = ['wifi','mouse','cpu']\n",
        "z = x+y\n",
        "print(z)"
      ],
      "metadata": {
        "colab": {
          "base_uri": "https://localhost:8080/"
        },
        "id": "wPjaw3J4kdsR",
        "outputId": "35cd5485-df45-4cdc-b680-9b0d2e6416c5"
      },
      "execution_count": 32,
      "outputs": [
        {
          "output_type": "stream",
          "name": "stdout",
          "text": [
            "['pen', 'books', 'phone', 'wifi', 'mouse', 'cpu']\n"
          ]
        }
      ]
    },
    {
      "cell_type": "code",
      "source": [
        "q = ['ram','ravan']\n",
        "r = [246,357]\n",
        "s = q+r\n",
        "print(s)"
      ],
      "metadata": {
        "colab": {
          "base_uri": "https://localhost:8080/"
        },
        "id": "u_alEXkmkdix",
        "outputId": "5d9ed958-6d7e-4c0c-b028-89ab6901e93a"
      },
      "execution_count": 34,
      "outputs": [
        {
          "output_type": "stream",
          "name": "stdout",
          "text": [
            "['ram', 'ravan', 246, 357]\n"
          ]
        }
      ]
    },
    {
      "cell_type": "code",
      "source": [],
      "metadata": {
        "id": "wGExl3U6kdeg"
      },
      "execution_count": null,
      "outputs": []
    },
    {
      "cell_type": "markdown",
      "source": [
        "# 6)**Repetition and 5 list.**"
      ],
      "metadata": {
        "id": "CydVUhPNxa8n"
      }
    },
    {
      "cell_type": "code",
      "source": [
        "my_list1 = [\"ram\",\"raju\",\"sai\",\"ravi\",\"mani\",\"yogesh\",\"pavan\",\"shiva\"]\n",
        "\n",
        "my_list2 = my_list1 * 5\n",
        "print(my_list2)"
      ],
      "metadata": {
        "colab": {
          "base_uri": "https://localhost:8080/"
        },
        "id": "hb66WHyEx5FX",
        "outputId": "fdd16a87-86a0-41ae-bb17-1ece63d4c3e9"
      },
      "execution_count": 36,
      "outputs": [
        {
          "output_type": "stream",
          "name": "stdout",
          "text": [
            "['ram', 'raju', 'sai', 'ravi', 'mani', 'yogesh', 'pavan', 'shiva', 'ram', 'raju', 'sai', 'ravi', 'mani', 'yogesh', 'pavan', 'shiva', 'ram', 'raju', 'sai', 'ravi', 'mani', 'yogesh', 'pavan', 'shiva', 'ram', 'raju', 'sai', 'ravi', 'mani', 'yogesh', 'pavan', 'shiva', 'ram', 'raju', 'sai', 'ravi', 'mani', 'yogesh', 'pavan', 'shiva']\n"
          ]
        }
      ]
    },
    {
      "cell_type": "code",
      "source": [
        "my_list2 = [\"arun\",\"ganesh\",\"suraj\",\"mallesh\",\"vikram\",\"suresh\",\"ramesh\",\"amar\"]\n",
        "my_list1 = my_list2 * 7\n",
        "print(my_list1)"
      ],
      "metadata": {
        "colab": {
          "base_uri": "https://localhost:8080/"
        },
        "id": "YU1TJD-4x5sB",
        "outputId": "4d893020-8953-420d-a89a-baa1e8b6151f"
      },
      "execution_count": 38,
      "outputs": [
        {
          "output_type": "stream",
          "name": "stdout",
          "text": [
            "['arun', 'ganesh', 'suraj', 'mallesh', 'vikram', 'suresh', 'ramesh', 'amar', 'arun', 'ganesh', 'suraj', 'mallesh', 'vikram', 'suresh', 'ramesh', 'amar', 'arun', 'ganesh', 'suraj', 'mallesh', 'vikram', 'suresh', 'ramesh', 'amar', 'arun', 'ganesh', 'suraj', 'mallesh', 'vikram', 'suresh', 'ramesh', 'amar', 'arun', 'ganesh', 'suraj', 'mallesh', 'vikram', 'suresh', 'ramesh', 'amar', 'arun', 'ganesh', 'suraj', 'mallesh', 'vikram', 'suresh', 'ramesh', 'amar', 'arun', 'ganesh', 'suraj', 'mallesh', 'vikram', 'suresh', 'ramesh', 'amar']\n"
          ]
        }
      ]
    },
    {
      "cell_type": "code",
      "source": [
        "C = [1.7,8.2,6.3,4.9,0.5]\n",
        "c = C * 9\n",
        "print(c)"
      ],
      "metadata": {
        "colab": {
          "base_uri": "https://localhost:8080/"
        },
        "id": "-lMWmHMjx5oG",
        "outputId": "4ba0d749-4fcb-4043-ff1d-175e5033ada4"
      },
      "execution_count": 41,
      "outputs": [
        {
          "output_type": "stream",
          "name": "stdout",
          "text": [
            "[1.7, 8.2, 6.3, 4.9, 0.5, 1.7, 8.2, 6.3, 4.9, 0.5, 1.7, 8.2, 6.3, 4.9, 0.5, 1.7, 8.2, 6.3, 4.9, 0.5, 1.7, 8.2, 6.3, 4.9, 0.5, 1.7, 8.2, 6.3, 4.9, 0.5, 1.7, 8.2, 6.3, 4.9, 0.5, 1.7, 8.2, 6.3, 4.9, 0.5, 1.7, 8.2, 6.3, 4.9, 0.5]\n"
          ]
        }
      ]
    },
    {
      "cell_type": "code",
      "source": [
        "J = [1,\"aPPle\",\"ball\"]\n",
        "j = J * 7\n",
        "print(j)"
      ],
      "metadata": {
        "colab": {
          "base_uri": "https://localhost:8080/"
        },
        "id": "RHt23MPnx5gn",
        "outputId": "3a4038b3-5ea9-4380-a823-d29c19b37872"
      },
      "execution_count": 48,
      "outputs": [
        {
          "output_type": "stream",
          "name": "stdout",
          "text": [
            "[1, 'aPPle', 'ball', 1, 'aPPle', 'ball', 1, 'aPPle', 'ball', 1, 'aPPle', 'ball', 1, 'aPPle', 'ball', 1, 'aPPle', 'ball', 1, 'aPPle', 'ball']\n"
          ]
        }
      ]
    },
    {
      "cell_type": "code",
      "source": [
        "E = [\"APPLE\",\"BANANA\",\"CHERRY\",\"D0G\"]\n",
        "f = E * 8\n",
        "\n",
        "print(f)"
      ],
      "metadata": {
        "colab": {
          "base_uri": "https://localhost:8080/"
        },
        "id": "kmdJ5tYGx5b_",
        "outputId": "64022f6c-548d-495d-b50b-4b014b58e5de"
      },
      "execution_count": 53,
      "outputs": [
        {
          "output_type": "stream",
          "name": "stdout",
          "text": [
            "['APPLE', 'BANANA', 'CHERRY', 'D0G', 'APPLE', 'BANANA', 'CHERRY', 'D0G', 'APPLE', 'BANANA', 'CHERRY', 'D0G', 'APPLE', 'BANANA', 'CHERRY', 'D0G', 'APPLE', 'BANANA', 'CHERRY', 'D0G', 'APPLE', 'BANANA', 'CHERRY', 'D0G', 'APPLE', 'BANANA', 'CHERRY', 'D0G', 'APPLE', 'BANANA', 'CHERRY', 'D0G']\n"
          ]
        }
      ]
    },
    {
      "cell_type": "code",
      "source": [],
      "metadata": {
        "id": "gewGLsyAx5TN"
      },
      "execution_count": null,
      "outputs": []
    },
    {
      "cell_type": "markdown",
      "source": [
        "# 7)**Modity 5 element in list of 15 elements by using index and slicing.**"
      ],
      "metadata": {
        "id": "4fqXsvwE019H"
      }
    },
    {
      "cell_type": "code",
      "source": [
        "names = [\"ram\",\"raju\",\"sai\",\"ravi\",\"mani\",\"yogesh\",\"pavan\",\"shiva\",\"arun\",\"ganesh\",\"suraj\",\"mallesh\",\"vikram\",\"suresh\",\"ramesh\",\"amar\"]\n",
        "\n",
        "# index\n",
        "\n",
        "A = names.index (\"yogesh\")\n",
        "print(A)\n",
        "\n",
        "j = names.index (\"mani\")\n",
        "print(j)\n",
        "\n",
        "C = names.index (\"arun\")\n",
        "print(C)\n",
        "\n",
        "nn = names.index (\"suraj\")\n",
        "print(nn)\n",
        "\n",
        "E = names.index (\"vikram\")\n",
        "print(E)\n",
        "\n",
        "# slicing\n",
        "\n",
        "print(names[3:15])\n",
        "\n",
        "print(names[ :8])\n",
        "\n",
        "print(names[14: ])\n",
        "\n",
        "print(names[-12:-2])\n",
        "\n",
        "print(names[ :-11])\n",
        "\n",
        "print(names[-15: ])\n"
      ],
      "metadata": {
        "colab": {
          "base_uri": "https://localhost:8080/"
        },
        "id": "L9nFi7fJ1dGu",
        "outputId": "9e2935e0-248f-400d-ea25-6a941c8370a5"
      },
      "execution_count": 71,
      "outputs": [
        {
          "output_type": "stream",
          "name": "stdout",
          "text": [
            "5\n",
            "4\n",
            "8\n",
            "10\n",
            "12\n",
            "['ravi', 'mani', 'yogesh', 'pavan', 'shiva', 'arun', 'ganesh', 'suraj', 'mallesh', 'vikram', 'suresh', 'ramesh']\n",
            "['ram', 'raju', 'sai', 'ravi', 'mani', 'yogesh', 'pavan', 'shiva']\n",
            "['ramesh', 'amar']\n",
            "['mani', 'yogesh', 'pavan', 'shiva', 'arun', 'ganesh', 'suraj', 'mallesh', 'vikram', 'suresh']\n",
            "['ram', 'raju', 'sai', 'ravi', 'mani']\n",
            "['raju', 'sai', 'ravi', 'mani', 'yogesh', 'pavan', 'shiva', 'arun', 'ganesh', 'suraj', 'mallesh', 'vikram', 'suresh', 'ramesh', 'amar']\n"
          ]
        }
      ]
    },
    {
      "cell_type": "code",
      "source": [],
      "metadata": {
        "id": "vcK1BtNv1dBv"
      },
      "execution_count": null,
      "outputs": []
    },
    {
      "cell_type": "markdown",
      "source": [
        "# 8)**Methods 9 and more with examples.**"
      ],
      "metadata": {
        "id": "u5JeCdZl8nCJ"
      }
    },
    {
      "cell_type": "code",
      "source": [],
      "metadata": {
        "id": "6sGt5H7h1c-E"
      },
      "execution_count": 62,
      "outputs": []
    },
    {
      "cell_type": "code",
      "source": [],
      "metadata": {
        "id": "Xje93yPs1c6P"
      },
      "execution_count": null,
      "outputs": []
    },
    {
      "cell_type": "code",
      "source": [],
      "metadata": {
        "id": "VyyW6bx31cyX"
      },
      "execution_count": null,
      "outputs": []
    },
    {
      "cell_type": "code",
      "source": [],
      "metadata": {
        "id": "nO2ykMVB1ck3"
      },
      "execution_count": null,
      "outputs": []
    }
  ]
}