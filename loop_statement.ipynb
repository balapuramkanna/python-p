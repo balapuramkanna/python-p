{
  "nbformat": 4,
  "nbformat_minor": 0,
  "metadata": {
    "colab": {
      "provenance": []
    },
    "kernelspec": {
      "name": "python3",
      "display_name": "Python 3"
    },
    "language_info": {
      "name": "python"
    }
  },
  "cells": [
    {
      "cell_type": "markdown",
      "source": [
        "# 1.**what is while loop with examples.**\n",
        "\n",
        "   - python while loop is used to run a block code until a certain is met."
      ],
      "metadata": {
        "id": "yEg92FCKQIQY"
      }
    },
    {
      "cell_type": "code",
      "source": [
        "number = 5\n",
        "while number <= 45:\n",
        "  print(number)\n",
        "  number=number+5"
      ],
      "metadata": {
        "colab": {
          "base_uri": "https://localhost:8080/"
        },
        "id": "T1d01p-yRnaD",
        "outputId": "87fdb823-1518-44be-87da-26660a6c9e65"
      },
      "execution_count": null,
      "outputs": [
        {
          "output_type": "stream",
          "name": "stdout",
          "text": [
            "5\n",
            "10\n",
            "15\n",
            "20\n",
            "25\n",
            "30\n",
            "35\n",
            "40\n",
            "45\n"
          ]
        }
      ]
    },
    {
      "cell_type": "code",
      "source": [
        "n = 100\n",
        "while n <= 1000:\n",
        "  print(n)\n",
        "  n=n+100"
      ],
      "metadata": {
        "colab": {
          "base_uri": "https://localhost:8080/"
        },
        "id": "O8KENJx6U9z2",
        "outputId": "d09cff9a-013b-4239-ec25-e6d379de5d9f"
      },
      "execution_count": null,
      "outputs": [
        {
          "output_type": "stream",
          "name": "stdout",
          "text": [
            "100\n",
            "200\n",
            "300\n",
            "400\n",
            "500\n",
            "600\n",
            "700\n",
            "800\n",
            "900\n",
            "1000\n"
          ]
        }
      ]
    },
    {
      "cell_type": "markdown",
      "source": [
        "## 2.**what is for loop with examples**\n",
        "\n",
        "   - The for loop in Python is used to iterate over a sequence (like a list, tuple, or string) or other iterable objects."
      ],
      "metadata": {
        "id": "NnDSjp6IQHwN"
      }
    },
    {
      "cell_type": "code",
      "execution_count": null,
      "metadata": {
        "colab": {
          "base_uri": "https://localhost:8080/"
        },
        "id": "uN2URGwyQBui",
        "outputId": "e5bd3f90-3a7c-4d3c-c133-989e8655c49d"
      },
      "outputs": [
        {
          "output_type": "stream",
          "name": "stdout",
          "text": [
            "A\n",
            "B\n",
            "C\n",
            "D\n"
          ]
        }
      ],
      "source": [
        "h = [\"A\",\"B\",\"C\",\"D\"]\n",
        "for x in h :\n",
        "  print(x)"
      ]
    },
    {
      "cell_type": "code",
      "source": [
        "m = [12,34,57,76,65]\n",
        "for n in m :\n",
        "  print(n)"
      ],
      "metadata": {
        "colab": {
          "base_uri": "https://localhost:8080/"
        },
        "id": "FWPXHIqSWQtK",
        "outputId": "2b4a9fe9-64c9-46b3-9b46-cfe1bd7f8b8d"
      },
      "execution_count": null,
      "outputs": [
        {
          "output_type": "stream",
          "name": "stdout",
          "text": [
            "12\n",
            "34\n",
            "57\n",
            "76\n",
            "65\n"
          ]
        }
      ]
    },
    {
      "cell_type": "code",
      "source": [
        "# 1.write a python program to check given year is lead year or not with loop.\n",
        "\n",
        "year = [1990,2020,2021,2024,2000]\n",
        "for m in year:\n",
        "  if m % 4==0:\n",
        "    print(m, \"leap year\")\n",
        "\n",
        "  else:\n",
        "    print(m, \"non leap year\")\n",
        "\n"
      ],
      "metadata": {
        "colab": {
          "base_uri": "https://localhost:8080/"
        },
        "id": "_UBe8yYPfi_D",
        "outputId": "22dccd6b-6f14-486d-cdf9-637ca73e0daa"
      },
      "execution_count": null,
      "outputs": [
        {
          "output_type": "stream",
          "name": "stdout",
          "text": [
            "1990 non leap year\n",
            "2020 leap year\n",
            "2021 non leap year\n",
            "2024 leap year\n",
            "2000 leap year\n"
          ]
        }
      ]
    },
    {
      "cell_type": "code",
      "source": [],
      "metadata": {
        "id": "EYRwpPEZk81L"
      },
      "execution_count": null,
      "outputs": []
    },
    {
      "cell_type": "code",
      "source": [
        "# 2.write a python program to find number even or odd with for loop.\n",
        "\n",
        "num = [1,3,4,5,6,7,6,8,]\n",
        "for n in num:\n",
        "  if n % 2 == 0:\n",
        "    print(n,\"number is even\")\n",
        "  else:\n",
        "    print(n,\"number is odd\")\n"
      ],
      "metadata": {
        "colab": {
          "base_uri": "https://localhost:8080/"
        },
        "id": "-TOx3uOEW3F7",
        "outputId": "d73f9f6d-5470-4eeb-8f99-15d4c9f70976"
      },
      "execution_count": null,
      "outputs": [
        {
          "output_type": "stream",
          "name": "stdout",
          "text": [
            "1 number is odd\n",
            "3 number is odd\n",
            "4 number is even\n",
            "5 number is odd\n",
            "6 number is even\n",
            "7 number is odd\n",
            "6 number is even\n",
            "8 number is even\n"
          ]
        }
      ]
    },
    {
      "cell_type": "code",
      "source": [
        "# 3.write a python program to check empty or not with for loop.\n",
        "\n",
        "list1 = [1,2, 4,5,6,8]\n",
        "for r in list1 :\n",
        "  if not r:\n",
        "    print(\"empty list\")\n",
        "  else :\n",
        "    print(\"list contains element\")"
      ],
      "metadata": {
        "colab": {
          "base_uri": "https://localhost:8080/"
        },
        "id": "HCuLZn34YJvw",
        "outputId": "711d2832-02c9-4c0d-f942-fb5b17a97822"
      },
      "execution_count": null,
      "outputs": [
        {
          "output_type": "stream",
          "name": "stdout",
          "text": [
            "list contains element\n",
            "list contains element\n",
            "list contains element\n",
            "list contains element\n",
            "list contains element\n",
            "list contains element\n"
          ]
        }
      ]
    },
    {
      "cell_type": "code",
      "source": [
        "# 4.write a python program to calculate grade of student.\n",
        "marks = [45,78,99,78,56,35,98,81]\n",
        "for m in marks:\n",
        "  if m>=90:\n",
        "    print(\"a gread\")\n",
        "  elif m >=80:\n",
        "    print(\"B gread\")\n",
        "  elif m >=70:\n",
        "    print(\"C gread\")\n",
        "  elif m >=60:\n",
        "    print(\"D gread\")\n",
        "  elif m >=50:\n",
        "    print(\"E gread\")\n",
        "  else :\n",
        "    print(\"fail\")"
      ],
      "metadata": {
        "colab": {
          "base_uri": "https://localhost:8080/"
        },
        "id": "ciZ1_VqOmq3g",
        "outputId": "02c9421a-5062-4333-85d3-b1e76d9564ee"
      },
      "execution_count": null,
      "outputs": [
        {
          "output_type": "stream",
          "name": "stdout",
          "text": [
            "fail\n",
            "C gread\n",
            "a gread\n",
            "C gread\n",
            "E gread\n",
            "fail\n",
            "a gread\n",
            "B gread\n"
          ]
        }
      ]
    },
    {
      "cell_type": "code",
      "source": [
        "# 5.write a python code to check whether given word is a paildrome or not with for loop.\n",
        "\n",
        "h = [\"mam\",\"rty\"]\n",
        "for a in h :\n",
        "  if a == a[::-1]:\n",
        "    print(\"paildrome\")\n",
        "  else :\n",
        "    print(\"no\")\n",
        "\n",
        "\n"
      ],
      "metadata": {
        "colab": {
          "base_uri": "https://localhost:8080/"
        },
        "id": "EpPcUeltpMP0",
        "outputId": "8d96ef92-fbe6-4b14-c020-e43f306cbe12"
      },
      "execution_count": 14,
      "outputs": [
        {
          "output_type": "stream",
          "name": "stdout",
          "text": [
            "paildrome\n",
            "no\n"
          ]
        }
      ]
    },
    {
      "cell_type": "code",
      "source": [
        "# 6.write a python program to find the smallest among the three number.\n",
        "\n",
        "A = [56,23,76]\n",
        "a=A[0]\n",
        "\n",
        "for b in A:\n",
        "  if b < a :\n",
        "     print(b,\"smallest number\")\n",
        "\n"
      ],
      "metadata": {
        "colab": {
          "base_uri": "https://localhost:8080/"
        },
        "id": "7sb2gTjErZXj",
        "outputId": "fcddcd5f-1d11-4a78-82f1-072dd71da3d2"
      },
      "execution_count": null,
      "outputs": [
        {
          "output_type": "stream",
          "name": "stdout",
          "text": [
            "23 smallest number\n"
          ]
        }
      ]
    },
    {
      "cell_type": "code",
      "source": [
        "# 7.write a python code to find the second largest number in a list with for loop.\n",
        "\n",
        "num = [1,2,8,87,98]\n",
        "rao = num[0]\n",
        "\n",
        "for l in num:\n",
        "  if l < rao:\n",
        "    rao = l\n",
        "    print(rao,\"samllest number\")\n"
      ],
      "metadata": {
        "id": "9h59Yde6u1Rr"
      },
      "execution_count": null,
      "outputs": []
    },
    {
      "cell_type": "code",
      "source": [
        "# 8.calculate bmi and categorize.\n"
      ],
      "metadata": {
        "id": "9dHo3XWnvWDC"
      },
      "execution_count": null,
      "outputs": []
    },
    {
      "cell_type": "code",
      "source": [
        "# 9.write a python code to check vote eligiblity with for loop.\n",
        "\n",
        "age = [12,23,44,11,45,10,77,89,23]\n",
        "for i in age :\n",
        "  if i <=18 :\n",
        "    print(\"not eligible\")\n",
        "  else:\n",
        "    print(\"eligible\")"
      ],
      "metadata": {
        "colab": {
          "base_uri": "https://localhost:8080/"
        },
        "id": "mjXAuPPEvuz3",
        "outputId": "2c4e01f4-a44e-4d27-e681-3218d090326e"
      },
      "execution_count": null,
      "outputs": [
        {
          "output_type": "stream",
          "name": "stdout",
          "text": [
            "not eligible\n",
            "eligible\n",
            "eligible\n",
            "not eligible\n",
            "eligible\n",
            "not eligible\n",
            "eligible\n",
            "eligible\n",
            "eligible\n"
          ]
        }
      ]
    },
    {
      "cell_type": "code",
      "source": [
        "# 10.write a python code to find the person which of group.\n"
      ],
      "metadata": {
        "id": "D33Mr691xVWz"
      },
      "execution_count": null,
      "outputs": []
    }
  ]
}