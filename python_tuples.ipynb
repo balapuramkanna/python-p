{
  "nbformat": 4,
  "nbformat_minor": 0,
  "metadata": {
    "colab": {
      "provenance": []
    },
    "kernelspec": {
      "name": "python3",
      "display_name": "Python 3"
    },
    "language_info": {
      "name": "python"
    }
  },
  "cells": [
    {
      "cell_type": "markdown",
      "source": [
        "# 1)**Define about tuple.**\n",
        "\n",
        "   - In Python, a tuple is a data structure that stores multiple items in a single variable in an immutable, ordered collection.\n",
        "\n",
        "   - Tuples are immutable, meaning that once created, their contents cannot be changed.\n",
        "   \n",
        "   - This makes them ideal for storing data that should not be modified, such as database records.\n",
        "\n",
        "   \n",
        "\n",
        "# 2)**creat 10 examples of tuple**\n",
        "\n"
      ],
      "metadata": {
        "id": "qBm3z90Xw_62"
      }
    },
    {
      "cell_type": "code",
      "source": [
        "A = (1,687,887,296,8657)\n",
        "\n",
        "print(A)\n",
        "\n",
        "print(type(A))"
      ],
      "metadata": {
        "colab": {
          "base_uri": "https://localhost:8080/"
        },
        "id": "TfSfDYDqzzOs",
        "outputId": "72d586ca-a569-4139-929a-2d4d17749568"
      },
      "execution_count": 3,
      "outputs": [
        {
          "output_type": "stream",
          "name": "stdout",
          "text": [
            "(1, 687, 887, 296, 8657)\n",
            "<class 'tuple'>\n"
          ]
        }
      ]
    },
    {
      "cell_type": "code",
      "source": [
        "a = (\"apple\", \"banana\", \"cherry\")\n",
        "\n",
        "print(a)\n",
        "\n",
        "print(type(a))\n",
        "\n"
      ],
      "metadata": {
        "colab": {
          "base_uri": "https://localhost:8080/"
        },
        "id": "jP2zq0nKz0jT",
        "outputId": "7b490bca-a73a-4480-c3ff-bb2a1dd19abf"
      },
      "execution_count": 4,
      "outputs": [
        {
          "output_type": "stream",
          "name": "stdout",
          "text": [
            "('apple', 'banana', 'cherry')\n",
            "<class 'tuple'>\n"
          ]
        }
      ]
    },
    {
      "cell_type": "code",
      "source": [
        "B = (74.98,57.4,86.98,486.58)\n",
        "\n",
        "print(B)\n",
        "\n",
        "print(type(B))"
      ],
      "metadata": {
        "colab": {
          "base_uri": "https://localhost:8080/"
        },
        "id": "Zy9RcAjSz0Y-",
        "outputId": "f8b03544-2886-4ee3-d19d-fa7a36163100"
      },
      "execution_count": 5,
      "outputs": [
        {
          "output_type": "stream",
          "name": "stdout",
          "text": [
            "(74.98, 57.4, 86.98, 486.58)\n",
            "<class 'tuple'>\n"
          ]
        }
      ]
    },
    {
      "cell_type": "code",
      "source": [
        "b = (83+4j,49+394j,5+84j)\n",
        "\n",
        "print(b)\n",
        "\n",
        "print(type(b))"
      ],
      "metadata": {
        "colab": {
          "base_uri": "https://localhost:8080/"
        },
        "id": "zggL0plXz0VZ",
        "outputId": "e47e2f10-bbcd-4845-f625-83143c0085e7"
      },
      "execution_count": 6,
      "outputs": [
        {
          "output_type": "stream",
          "name": "stdout",
          "text": [
            "((83+4j), (49+394j), (5+84j))\n",
            "<class 'tuple'>\n"
          ]
        }
      ]
    },
    {
      "cell_type": "code",
      "source": [
        "C = (True,False,True,False)\n",
        "\n",
        "print(C)\n",
        "\n",
        "print(type(C))"
      ],
      "metadata": {
        "colab": {
          "base_uri": "https://localhost:8080/"
        },
        "id": "_nXcECcQz0Si",
        "outputId": "9db45d01-2f89-46a0-99fe-26050f79b5db"
      },
      "execution_count": 7,
      "outputs": [
        {
          "output_type": "stream",
          "name": "stdout",
          "text": [
            "(True, False, True, False)\n",
            "<class 'tuple'>\n"
          ]
        }
      ]
    },
    {
      "cell_type": "code",
      "source": [
        "c = (48865)\n",
        "\n",
        "print(c)\n",
        "\n",
        "print(type(c))\n",
        "\n",
        "D = (48865,)\n",
        "\n",
        "print(D)\n",
        "\n",
        "print(type(D))"
      ],
      "metadata": {
        "colab": {
          "base_uri": "https://localhost:8080/"
        },
        "id": "RLGxCKnszz2W",
        "outputId": "10efbf8f-7387-492e-cce6-e6b96fd4ce95"
      },
      "execution_count": 9,
      "outputs": [
        {
          "output_type": "stream",
          "name": "stdout",
          "text": [
            "48865\n",
            "<class 'int'>\n",
            "(48865,)\n",
            "<class 'tuple'>\n"
          ]
        }
      ]
    },
    {
      "cell_type": "code",
      "source": [
        "E = (\"hello\",)\n",
        "\n",
        "print(E)\n",
        "\n",
        "print(type(E))"
      ],
      "metadata": {
        "colab": {
          "base_uri": "https://localhost:8080/"
        },
        "id": "XBJzHkhK16l2",
        "outputId": "fe788c10-d3c7-498c-c170-160519c08f4e"
      },
      "execution_count": 11,
      "outputs": [
        {
          "output_type": "stream",
          "name": "stdout",
          "text": [
            "('hello',)\n",
            "<class 'tuple'>\n"
          ]
        }
      ]
    },
    {
      "cell_type": "code",
      "source": [
        "e = (\"hello\", 5498,73+5j,75.58,86>68,)\n",
        "\n",
        "print(e)\n",
        "\n",
        "print(type(e))"
      ],
      "metadata": {
        "colab": {
          "base_uri": "https://localhost:8080/"
        },
        "id": "N1RxewnA16e7",
        "outputId": "c348eff9-80d1-4d4e-98fe-57eb0eab50b8"
      },
      "execution_count": 12,
      "outputs": [
        {
          "output_type": "stream",
          "name": "stdout",
          "text": [
            "('hello', 5498, (73+5j), 75.58, True)\n",
            "<class 'tuple'>\n"
          ]
        }
      ]
    },
    {
      "cell_type": "code",
      "source": [],
      "metadata": {
        "id": "jHhQckCu2x4Y"
      },
      "execution_count": null,
      "outputs": []
    },
    {
      "cell_type": "markdown",
      "source": [
        "# 3)**Creat a tuple with 10 examples and access with index and slicing.**"
      ],
      "metadata": {
        "id": "5CKDR_6n2yYZ"
      }
    },
    {
      "cell_type": "code",
      "source": [
        "ipl = (2020,\"mi\",2021,\"csk\",2022,\"gt\",2023,\"csk\",2024,\"kkr\",2025,\"upcoming\")\n",
        "\n",
        "print(ipl)\n",
        "\n",
        "print(type(ipl))\n",
        "\n",
        "# index\n",
        "\n",
        "print(ipl[0])\n",
        "\n",
        "print(ipl[1])\n",
        "\n",
        "print(ipl[2])\n",
        "\n",
        "print(ipl[3])\n",
        "\n",
        "print(ipl[4])\n",
        "\n",
        "print(ipl[5])\n",
        "\n",
        "print(ipl[-1])\n",
        "\n",
        "print(ipl[-2])\n",
        "\n",
        "print(ipl[-3])\n",
        "\n",
        "print(ipl[-4])\n",
        "\n",
        "print(ipl[-5])\n",
        "\n",
        "print(ipl[-6])\n",
        "\n",
        "# slicing\n",
        "\n",
        "print(ipl[0:5])\n",
        "\n",
        "print(ipl[3:6])\n",
        "\n",
        "print(ipl[2:7])\n",
        "\n",
        "print(ipl[5:8])\n",
        "\n",
        "print(ipl[1:9])\n",
        "\n",
        "print(ipl[7:10])\n",
        "\n",
        "print(ipl[-9:-1])\n",
        "\n",
        "print(ipl[-8:-1])\n",
        "\n",
        "print(ipl[-7:-1])\n",
        "\n",
        "print(ipl[-6:-1])\n",
        "\n",
        "print(ipl[-5:-1])"
      ],
      "metadata": {
        "colab": {
          "base_uri": "https://localhost:8080/"
        },
        "id": "kp9GopSM16Zu",
        "outputId": "e8f320e4-55ac-4bf4-f27b-d00f09f457ef"
      },
      "execution_count": 25,
      "outputs": [
        {
          "output_type": "stream",
          "name": "stdout",
          "text": [
            "(2020, 'mi', 2021, 'csk', 2022, 'gt', 2023, 'csk', 2024, 'kkr', 2025, 'upcoming')\n",
            "<class 'tuple'>\n",
            "2020\n",
            "mi\n",
            "2021\n",
            "csk\n",
            "2022\n",
            "gt\n",
            "upcoming\n",
            "2025\n",
            "kkr\n",
            "2024\n",
            "csk\n",
            "2023\n",
            "(2020, 'mi', 2021, 'csk', 2022)\n",
            "('csk', 2022, 'gt')\n",
            "(2021, 'csk', 2022, 'gt', 2023)\n",
            "('gt', 2023, 'csk')\n",
            "('mi', 2021, 'csk', 2022, 'gt', 2023, 'csk', 2024)\n",
            "('csk', 2024, 'kkr')\n",
            "('csk', 2022, 'gt', 2023, 'csk', 2024, 'kkr', 2025)\n",
            "(2022, 'gt', 2023, 'csk', 2024, 'kkr', 2025)\n",
            "('gt', 2023, 'csk', 2024, 'kkr', 2025)\n",
            "(2023, 'csk', 2024, 'kkr', 2025)\n",
            "('csk', 2024, 'kkr', 2025)\n"
          ]
        }
      ]
    },
    {
      "cell_type": "code",
      "source": [],
      "metadata": {
        "id": "qKfQXIBk2xFR"
      },
      "execution_count": null,
      "outputs": []
    },
    {
      "cell_type": "markdown",
      "source": [
        "# 4&5)**Tuple operations.**\n",
        "\n",
        "  - 1. concatenation\n",
        "\n",
        "  - combining two tuples.\n",
        "\n",
        "  - 2. repetition\n",
        "\n",
        "  - repeating a tuples."
      ],
      "metadata": {
        "id": "6ijyP4UO9P3c"
      }
    },
    {
      "cell_type": "code",
      "source": [
        "\n",
        "five = (\"dharmaraju\",\"bhima\",\"arjun\",\"nakula\",\"sahadeva\")\n",
        "\n",
        "one = (\"karna\",)\n",
        "\n",
        "print(type(five))\n",
        "\n",
        "print(type(one))\n",
        "\n",
        "\n",
        "\n",
        "print(one)\n",
        "\n",
        "# concatenation\n",
        "\n",
        "print(five+one)\n",
        "\n",
        "# repetition\n",
        "\n",
        "print(five*3)\n"
      ],
      "metadata": {
        "colab": {
          "base_uri": "https://localhost:8080/"
        },
        "id": "YbL8oHaW9O_Q",
        "outputId": "1c2dfbe8-1327-43ff-f0c8-119f1f642e59"
      },
      "execution_count": 31,
      "outputs": [
        {
          "output_type": "stream",
          "name": "stdout",
          "text": [
            "<class 'tuple'>\n",
            "<class 'tuple'>\n",
            "('karna',)\n",
            "('dharmaraju', 'bhima', 'arjun', 'nakula', 'sahadeva', 'karna')\n",
            "('dharmaraju', 'bhima', 'arjun', 'nakula', 'sahadeva', 'dharmaraju', 'bhima', 'arjun', 'nakula', 'sahadeva', 'dharmaraju', 'bhima', 'arjun', 'nakula', 'sahadeva')\n"
          ]
        }
      ]
    },
    {
      "cell_type": "code",
      "source": [],
      "metadata": {
        "id": "6NwGUjkC16WQ"
      },
      "execution_count": null,
      "outputs": []
    },
    {
      "cell_type": "markdown",
      "source": [
        "# 6)**methods of tuples.**\n",
        "\n",
        "  - count()\n",
        "  \n",
        "        Returns the number of times a specified value occurs in a tuple.\n",
        "\n",
        "  - index()\n",
        "  \n",
        "    \tSearches the tuple for a specified value and returns the position of where it was found"
      ],
      "metadata": {
        "id": "slW12rzWCrbT"
      }
    },
    {
      "cell_type": "code",
      "source": [
        "# count()\n",
        "\n",
        "A = (73,64,599,598,213,599,537)\n",
        "\n",
        "print(A.count(599))\n",
        "\n",
        "# index()\n",
        "\n",
        "print(A.index(599))"
      ],
      "metadata": {
        "colab": {
          "base_uri": "https://localhost:8080/"
        },
        "id": "QOZm9WuyCrDh",
        "outputId": "f67461fa-9a47-4daf-f53f-c0ce37ccf288"
      },
      "execution_count": 34,
      "outputs": [
        {
          "output_type": "stream",
          "name": "stdout",
          "text": [
            "(73, 64, 599, 598, 213, 599, 537)\n",
            "<class 'tuple'>\n",
            "2\n",
            "2\n"
          ]
        }
      ]
    },
    {
      "cell_type": "code",
      "source": [],
      "metadata": {
        "id": "fJpvQs76Cq-C"
      },
      "execution_count": null,
      "outputs": []
    },
    {
      "cell_type": "code",
      "source": [],
      "metadata": {
        "id": "i86kFGmjCq6o"
      },
      "execution_count": null,
      "outputs": []
    },
    {
      "cell_type": "code",
      "source": [],
      "metadata": {
        "id": "D4k-iCky16SG"
      },
      "execution_count": null,
      "outputs": []
    }
  ]
}