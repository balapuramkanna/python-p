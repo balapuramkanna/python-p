{
  "nbformat": 4,
  "nbformat_minor": 0,
  "metadata": {
    "colab": {
      "provenance": []
    },
    "kernelspec": {
      "name": "python3",
      "display_name": "Python 3"
    },
    "language_info": {
      "name": "python"
    }
  },
  "cells": [
    {
      "cell_type": "markdown",
      "source": [
        "# 1)**Define about dictionaries.**\n",
        "\n",
        "   - Dictionaries are used to store data values in key:value pairs.\n",
        "\n",
        "   - A dictionary is a collection which is ordered*, changeable and do not allow duplicates.\n",
        "\n",
        "\n",
        "   - Dictionaries are written with curly brackets { }, and have keys and values:"
      ],
      "metadata": {
        "id": "ivXJatm183kQ"
      }
    },
    {
      "cell_type": "code",
      "execution_count": null,
      "metadata": {
        "id": "fwB1oGeN8udX"
      },
      "outputs": [],
      "source": []
    },
    {
      "cell_type": "markdown",
      "source": [
        "# 2)**Create 10 examples.**\n",
        "\n",
        "\n"
      ],
      "metadata": {
        "id": "n8FGq_p9_DR5"
      }
    },
    {
      "cell_type": "code",
      "source": [
        "beast = {\n",
        "  \"brand\": \"Ford\",\n",
        "  \"model\": \"Mustang mach 1\",\n",
        "  \"year\": \"1969\",\n",
        "  \"owner\" : \"john wick\"\n",
        "}\n",
        "print(beast)"
      ],
      "metadata": {
        "colab": {
          "base_uri": "https://localhost:8080/"
        },
        "id": "hjC8y31K_ZJm",
        "outputId": "87c16020-1334-44db-d0d4-c83424d8e650"
      },
      "execution_count": 9,
      "outputs": [
        {
          "output_type": "stream",
          "name": "stdout",
          "text": [
            "{'brand': 'Ford', 'model': 'Mustang mach 1', 'year': '1969', 'owner': 'john wick'}\n"
          ]
        }
      ]
    },
    {
      "cell_type": "code",
      "source": [
        "beast = {\n",
        "  \"brand\": \"Ford\",\n",
        "  \"model\": \"Mustang mach 1\",\n",
        "  \"year\": \"1969\",\n",
        "  \"owner\" : \"john wick\"\n",
        "}\n",
        "print(beast[\"brand\"])"
      ],
      "metadata": {
        "colab": {
          "base_uri": "https://localhost:8080/"
        },
        "id": "I1Cc8AKa_Zr_",
        "outputId": "6bde8890-12ac-4441-d3f9-3c42109013f0"
      },
      "execution_count": 10,
      "outputs": [
        {
          "output_type": "stream",
          "name": "stdout",
          "text": [
            "Ford\n"
          ]
        }
      ]
    },
    {
      "cell_type": "code",
      "source": [
        "beast = {\n",
        "    \"city\": \"new yark\",\n",
        "    \"state\": \"new jersey\",\n",
        "    \"country\": \"USA\"\n",
        "}\n",
        "\n",
        "print(beast)"
      ],
      "metadata": {
        "colab": {
          "base_uri": "https://localhost:8080/"
        },
        "id": "ex55PR6A_ZX1",
        "outputId": "16f9af09-c4d5-4862-9efc-a42d0add35ea"
      },
      "execution_count": 14,
      "outputs": [
        {
          "output_type": "stream",
          "name": "stdout",
          "text": [
            "{'city': 'new yark', 'state': 'new jersey', 'country': 'USA'}\n"
          ]
        }
      ]
    },
    {
      "cell_type": "markdown",
      "source": [
        "# 3)**Creat a dictionaries with 15 key_value and you need to access each and evary key_value .**"
      ],
      "metadata": {
        "id": "RoBhxwZaCUKO"
      }
    },
    {
      "cell_type": "code",
      "source": [
        "# christopher Nolan movies and released year and awards.\n",
        "\n",
        "movies  = {\n",
        "     \"1movie\": \"following\",\n",
        "     \"followingyear\": \"1998\",\n",
        "\n",
        "\n",
        "     \"2movie\": \"memento\",\n",
        "     \"mementoyear\": \"2000\",\n",
        "\n",
        "\n",
        "     \"3movie\": \"insomnia\",\n",
        "     \"insomniayear\": \"2002\",\n",
        "\n",
        "\n",
        "     \"4movie\": \"batmanbegins\",\n",
        "     \"batmanbeginsyear\": \"2005\",\n",
        "\n",
        "\n",
        "     \"5movie\": \"theptestige\",\n",
        "     \"theptestigeyear\": \"2006\",\n",
        "\n",
        "\n",
        "     \"6movie\": \"thedarkknight\",\n",
        "     \"thedarkknightyear\": \"2008\",\n",
        "\n",
        "\n",
        "     \"7movie\":\"inception\",\n",
        "     \"inceptionyear\": \"2010\",\n",
        "\n",
        "\n",
        "     \"8movie\": \"thedarkknightrises\",\n",
        "     \"thedarkknightrisesyear\": \"2012\",\n",
        "\n",
        "\n",
        "      \"9movie\": \"interstellar\",\n",
        "     \"interstellaryear\": \"2014\",\n",
        "\n",
        "\n",
        "     \"10movie\": \"dunkirk\",\n",
        "     \"dunkirkyear\": \"2017\",\n",
        "\n",
        "\n",
        "     \"11movie\": \"tenet\",\n",
        "     \"tenetyear\": \"2020\",\n",
        "\n",
        "\n",
        "     \"12movie\": \"oppenheimer\",\n",
        "     \"oppenheimeryear\": \"2023\",\n",
        "     \"awards\": \"Oscar for best picture and best director 2024 for christopher Nolan\"\n",
        "\n",
        "\n",
        "}\n",
        "print(movies[\"1movie\"])\n",
        "\n",
        "print(movies[\"followingyear\"])\n",
        "\n",
        "print(movies[\"2movie\"])\n",
        "\n",
        "print(movies[\"mementoyear\"])\n",
        "\n",
        "print(movies[\"3movie\"])\n",
        "\n",
        "print(movies[\"insomniayear\"])\n",
        "\n",
        "print(movies[\"4movie\"])\n",
        "\n",
        "print(movies[\"batmanbeginsyear\"])\n",
        "\n",
        "print(movies[\"5movie\"])\n",
        "\n",
        "print(movies[\"theptestigeyear\"])\n",
        "\n",
        "print(movies[\"6movie\"])\n",
        "\n",
        "print(movies[\"thedarkknightyear\"])\n",
        "\n",
        "print(movies[\"7movie\"])\n",
        "\n",
        "print(movies[\"inceptionyear\"])\n",
        "\n",
        "print(movies[\"8movie\"])\n",
        "\n",
        "print(movies[\"thedarkknightrisesyear\"])\n",
        "\n",
        "print(movies[\"9movie\"])\n",
        "\n",
        "print(movies[\"interstellaryear\"])\n",
        "\n",
        "print(movies[\"10movie\"])\n",
        "\n",
        "print(movies[\"dunkirkyear\"])\n",
        "\n",
        "print(movies[\"11movie\"])\n",
        "\n",
        "print(movies[\"tenetyear\"])\n",
        "\n",
        "print(movies[\"12movie\"])\n",
        "\n",
        "print(movies[\"oppenheimeryear\"])\n",
        "\n",
        "print(movies[\"awards\"])"
      ],
      "metadata": {
        "colab": {
          "base_uri": "https://localhost:8080/"
        },
        "id": "l6jGzOVKCVFu",
        "outputId": "928ec4bf-910c-4fd7-f192-5323a03cef86"
      },
      "execution_count": 31,
      "outputs": [
        {
          "output_type": "stream",
          "name": "stdout",
          "text": [
            "following\n",
            "1998\n",
            "memento\n",
            "2000\n",
            "insomnia\n",
            "2002\n",
            "batmanbegins\n",
            "2005\n",
            "theptestige\n",
            "2006\n",
            "thedarkknight\n",
            "2008\n",
            "inception\n",
            "2010\n",
            "thedarkknightrises\n",
            "2012\n",
            "interstellar\n",
            "2014\n",
            "dunkirk\n",
            "2017\n",
            "tenet\n",
            "2020\n",
            "oppenheimer\n",
            "2023\n",
            "Oscar for best picture and best director 2024 for christopher Nolan\n"
          ]
        }
      ]
    },
    {
      "cell_type": "code",
      "source": [],
      "metadata": {
        "id": "O3mqVGThSpEL"
      },
      "execution_count": null,
      "outputs": []
    },
    {
      "cell_type": "markdown",
      "source": [
        "# 4)**How to moditying and adding entries examples.**"
      ],
      "metadata": {
        "id": "i8l9KwCrSpcH"
      }
    },
    {
      "cell_type": "code",
      "source": [
        "brigadiershekhawat = {\n",
        "\n",
        "      \"full name\": \"Brigadier saurabh singh shekhawat\",\n",
        "\n",
        "      \"born\": \"18/10/1970\",\n",
        "\n",
        "      \"service/brance\":\"indian army\",\n",
        "\n",
        "      \"year of service\": \"11/6/1994 - 31/8/2024\",\n",
        "\n",
        "      \"unit\": \"21 para (SF)\",\n",
        "\n",
        "      \"commands\": \"9 para(SF) and 21 para (sf)\",\n",
        "\n",
        "      \"battles/wars\": \"operation vijay\",\n",
        "\n",
        "      \"awards\": \"KIRTI CHAKRA,SHAURYA CHAKRA,SENA MEDAL(gallantry),VSM\",\n",
        "\n",
        "\n",
        "}\n",
        "\n",
        "print(brigadiershekhawat)\n",
        "\n",
        "print(brigadiershekhawat[\"unit\"])\n",
        "\n",
        "print(brigadiershekhawat[\"commands\"])\n",
        "\n",
        "print(brigadiershekhawat[\"battles/wars\"])\n",
        "\n",
        "print(brigadiershekhawat[\"awards\"])"
      ],
      "metadata": {
        "colab": {
          "base_uri": "https://localhost:8080/"
        },
        "id": "YN3_YEuNTRLg",
        "outputId": "759ef27e-d002-4c0d-d15d-e77b5039849c"
      },
      "execution_count": 45,
      "outputs": [
        {
          "output_type": "stream",
          "name": "stdout",
          "text": [
            "{'full name': 'Brigadier saurabh singh shekhawat', 'born': '18/10/1970', 'service/brance': 'indian army', 'year of service': '11/6/1994 - 31/8/2024', 'unit': '21 para (SF)', 'commands': '9 para(SF) and 21 para (sf)', 'battles/wars': 'operation vijay', 'awards': 'KIRTI CHAKRA,SHAURYA CHAKRA,SENA MEDAL(gallantry),VSM'}\n",
            "21 para (SF)\n",
            "9 para(SF) and 21 para (sf)\n",
            "operation vijay\n",
            "KIRTI CHAKRA,SHAURYA CHAKRA,SENA MEDAL(gallantry),VSM\n"
          ]
        }
      ]
    },
    {
      "cell_type": "code",
      "source": [
        "\n",
        "brigadiershekhawat = {\n",
        "    \"allegiance\": \"india\",\n",
        "\n",
        "    \"sevice number\": \"IC -52871\",\n",
        "\n",
        "    \"unit\": \"17 maratha LI\",\n",
        "\n",
        "    \"rank\": \"brigadier\",\n",
        "\n",
        "\n",
        "}\n",
        "\n",
        "print(brigadiershekhawat)\n",
        "\n",
        "print(brigadiershekhawat[\"allegiance\"])\n",
        "\n",
        "print(brigadiershekhawat[\"sevice number\"])\n",
        "\n",
        "print(brigadiershekhawat[\"unit\"])\n",
        "\n",
        "print(brigadiershekhawat[\"rank\"])"
      ],
      "metadata": {
        "colab": {
          "base_uri": "https://localhost:8080/"
        },
        "id": "Vocz8DuHWzfK",
        "outputId": "8b4e0018-ac81-4948-e8bd-863c8bc17554"
      },
      "execution_count": 50,
      "outputs": [
        {
          "output_type": "stream",
          "name": "stdout",
          "text": [
            "{'allegiance': 'india', 'sevice number': 'IC -52871', 'unit': '17 maratha LI', 'rank': 'brigadier'}\n",
            "india\n",
            "IC -52871\n",
            "17 maratha LI\n",
            "brigadier\n"
          ]
        }
      ]
    },
    {
      "cell_type": "code",
      "source": [],
      "metadata": {
        "id": "l19vnC5xahcQ"
      },
      "execution_count": null,
      "outputs": []
    },
    {
      "cell_type": "markdown",
      "source": [
        "# 5)**Dictionary methods.**\n",
        "\n",
        "clear()\n",
        "\n",
        "\tRemoves all the elements from the dictionary\n",
        "\n",
        "copy()\n",
        "\n",
        "\tReturns a copy of the dictionary\n",
        "\n",
        "fromkeys()\n",
        "\n",
        "    Returns a dictionary with the specified keys and value\n",
        "\n",
        "get()\n",
        "\n",
        "    Returns the value of the specified key\n",
        "\n",
        "items()\n",
        "\n",
        "    Returns a list containing a tuple for each key value pair\n",
        "\n",
        "keys()\n",
        "\n",
        "    Returns a list containing the dictionary's keys\n",
        "\n",
        "pop()\n",
        "\n",
        "    Removes the element with the specified key\n",
        "\n",
        "popitem()\n",
        "\n",
        "\tRemoves the last inserted key-value pair\n",
        "\n",
        "setdefault()\n",
        "\n",
        "\tReturns the value of the specified key. If the key does not exist: insert the key, with the specified value\n",
        "\n",
        "update()\n",
        "\n",
        "    Updates the dictionary with the specified key-value pairs\n",
        "\n",
        "values()\n",
        "\n",
        "    Returns a list of all the values in the dictionary\n"
      ],
      "metadata": {
        "id": "WHHAvTYIagki"
      }
    },
    {
      "cell_type": "code",
      "source": [
        "# 1) clear()\n",
        "\n",
        "car = {\n",
        "  \"brand\": \"Ford\",\n",
        "  \"model\": \"Mustang mach 1\",\n",
        "  \"year\": 1969\n",
        "}\n",
        "\n",
        "car.clear()\n",
        "\n",
        "print(car)\n",
        "\n",
        "# 2) copy()\n",
        "\n",
        "car = {\n",
        "  \"brand\": \"Ford\",\n",
        "  \"model\": \"Mustang mach 1\",\n",
        "  \"year\": 1969\n",
        "}\n",
        "\n",
        "x = car.copy()\n",
        "\n",
        "print(x)\n",
        "\n",
        "# 3) fromkeys()\n",
        "\n",
        "x = ('key1', 'key2', 'key3')\n",
        "y = 0\n",
        "\n",
        "thisdict = dict.fromkeys(x, y)\n",
        "\n",
        "print(thisdict)\n",
        "\n",
        "# 4) get()\n",
        "\n",
        "car = {\n",
        "  \"brand\": \"Ford\",\n",
        "  \"model\": \"Mustang mach 1\",\n",
        "  \"year\": 1969\n",
        "}\n",
        "\n",
        "x = car.get(\"model\")\n",
        "\n",
        "print(x)\n",
        "\n",
        "# 5) pop()\n",
        "\n",
        "car = {\n",
        "  \"brand\": \"Ford\",\n",
        "  \"model\": \"Mustang mach 1\",\n",
        "  \"year\": 1969\n",
        "}\n",
        "\n",
        "car.pop(\"model\")\n",
        "\n",
        "print(car)\n",
        "\n",
        "# 6) popitem()\n",
        "\n",
        "car = {\n",
        "  \"brand\": \"Ford\",\n",
        "  \"model\": \"Mustang mach 1\",\n",
        "  \"year\": 1969\n",
        "}\n",
        "\n",
        "car.popitem()\n",
        "\n",
        "print(car)\n",
        "\n",
        "# 7) setdefault()\n",
        "\n",
        "car = {\n",
        "  \"brand\": \"Ford\",\n",
        "  \"model\": \"Mustang mach 1\",\n",
        "  \"year\": 1969\n",
        "}\n",
        "\n",
        "x = car.setdefault(\"model\", \"Bronco\")\n",
        "\n",
        "print(x)\n",
        "\n",
        "# 8) update()\n",
        "\n",
        "car = {\n",
        "  \"brand\": \"Ford\",\n",
        "  \"model\": \"Mustang  mach 1\",\n",
        "  \"year\": 1969\n",
        "}\n",
        "\n",
        "car.update({\"color\": \"White\"})\n",
        "\n",
        "print(car)\n",
        "\n",
        "\n",
        "# 9) values()\n",
        "\n",
        "\n",
        "car = {\n",
        "  \"brand\": \"Ford\",\n",
        "  \"model\": \"Mustang mach 1\",\n",
        "  \"year\": 1969\n",
        "}\n",
        "\n",
        "x = car.values()\n",
        "\n",
        "print(x)"
      ],
      "metadata": {
        "colab": {
          "base_uri": "https://localhost:8080/"
        },
        "id": "OtT3GMAiagIJ",
        "outputId": "1c1671b2-d0b1-446e-c7ce-8c5a0d6da999"
      },
      "execution_count": 55,
      "outputs": [
        {
          "output_type": "stream",
          "name": "stdout",
          "text": [
            "{}\n",
            "{'brand': 'Ford', 'model': 'Mustang mach 1', 'year': 1969}\n",
            "{'key1': 0, 'key2': 0, 'key3': 0}\n",
            "Mustang mach 1\n",
            "{'brand': 'Ford', 'year': 1969}\n",
            "{'brand': 'Ford', 'model': 'Mustang mach 1'}\n",
            "Mustang mach 1\n",
            "{'brand': 'Ford', 'model': 'Mustang  mach 1', 'year': 1969, 'color': 'White'}\n",
            "dict_values(['Ford', 'Mustang mach 1', 1969])\n"
          ]
        }
      ]
    }
  ]
}