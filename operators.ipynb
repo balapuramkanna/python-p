{
 "cells": [
  {
   "cell_type": "markdown",
   "id": "08e6cfed-a040-49e6-bb97-55272f8a8c87",
   "metadata": {},
   "source": [
    "# 1)**explain about operators?**\n",
    "\n",
    "     - in Python programming, Operators in general are used to perform operations on values and variables.\n",
    "\n",
    "     - these are standard symbols used for logical and arithmetic operations. In this article, we will look into different types of Python operators. \n",
    "\n",
    "     - OPERATORS: These are the special symbols. Eg- + , * , /, etc.\n",
    "     - OPERAND: It is the value on which the operator is applied.\n",
    "\n",
    "# 2)**define the types of operators?**\n",
    "\n",
    "    - there are 7 type of operators in python\n",
    "    \n",
    "    - 1.arithmetic operators\n",
    "    - 2.assigment operators\n",
    "    - 3.compassion operators\n",
    "    - 4.logical operators\n",
    "    - 5.identity operators\n",
    "    - 6.membership opperators\n",
    "    - 7.bitwise operators\n",
    "\n",
    "# 3)**explain each and every operators eith 10 examples?**\n",
    " \n",
    "    - 1.arithmetic operators\n",
    "        \n",
    "    - Python Arithmetic operators are used to perform basic mathematical operations like addition, subtraction, multiplication, and division.\n",
    "    \n",
    "     - in Python 3.x the result of division is a floating-point while in Python 2.x division of 2 integers was an integer. To obtain an integer result         in Python 3.x floored (// integer) is used.\n",
    "\r\n",
    "\n"
   ]
  },
  {
   "cell_type": "code",
   "execution_count": 21,
   "id": "2f88f097-3d97-42c4-bd6e-6f3425116f4a",
   "metadata": {},
   "outputs": [
    {
     "name": "stdout",
     "output_type": "stream",
     "text": [
      "18\n",
      "72\n",
      "6\n",
      "2.0\n",
      "2\n",
      "0\n",
      "2985984\n"
     ]
    }
   ],
   "source": [
    "a = 12\n",
    "b = 6\n",
    "\n",
    "print(a+b)\n",
    "print(a*b)\n",
    "print(a-b)\n",
    "print(a/b)\n",
    "print(a//b)\n",
    "print(a%b)\n",
    "print(a**b)\n"
   ]
  },
  {
   "cell_type": "code",
   "execution_count": 29,
   "id": "84f10360-8af3-4dac-9e27-023bd3fecf8b",
   "metadata": {},
   "outputs": [
    {
     "name": "stdout",
     "output_type": "stream",
     "text": [
      "3\n",
      "12.6\n",
      "0\n",
      "1.4\n"
     ]
    }
   ],
   "source": [
    "a = 7\n",
    "b = 9\n",
    "c = 5\n",
    "\n",
    "print(a-b+c)\n",
    "print(a*b/c)\n",
    "print(a//b**c)\n",
    "print(a%b/c)\n"
   ]
  },
  {
   "cell_type": "markdown",
   "id": "34e16649-deec-4cf8-9234-1b96c9cb180f",
   "metadata": {},
   "source": [
    "   - 2.Assignment Operators\n",
    "    \r",
    "    - The assignment operators are used to assign values to variables\n",
    "    \n",
    "    - with the help of assignment operators we will reduce the memory.\n",
    "    \n",
    "    - types of Assignment Operators:\n",
    "\n",
    "    - =\tAssignment Operators\n",
    "    \r",
    "    - \n",
    "+ \tAddition Assignmen\n",
    "    1    - \r\n",
    " =\tSubtraction Assignme\n",
    "         - 3\r",
    " *=\tMultiplication Assignm\n",
    "    *    -  4 \n",
    "/=\tDivision Assign\n",
    "         - /  \r\n",
    "%=\tRemainder Assig\n",
    "         - % 1 \r\n",
    "**=\tExponent Assignment\n",
    "     (%=):"
   ]
  },
  {
   "cell_type": "code",
   "execution_count": 77,
   "id": "7ef978ef-0746-4e4c-adb8-75c7c3acf7a8",
   "metadata": {},
   "outputs": [
    {
     "name": "stdout",
     "output_type": "stream",
     "text": [
      "9\n",
      "2\n",
      "14\n",
      "12\n",
      "-10\n",
      "-8\n",
      "-18\n",
      "2.8007538972582435e-13\n"
     ]
    }
   ],
   "source": [
    "a = 2\n",
    "b = 7\n",
    "a=a+b\n",
    "\n",
    "print(a)\n",
    "\n",
    "a=a-b\n",
    "\n",
    "print(a)\n",
    "\n",
    "b=a*b\n",
    "\n",
    "print(b)\n",
    "\n",
    "b-=a\n",
    "\n",
    "print(b)\n",
    "\n",
    "b=a-b\n",
    "\n",
    "print(b)\n",
    "\n",
    "a=a%b\n",
    "\n",
    "print(a)\n",
    "\n",
    "a+=b\n",
    "\n",
    "print(a)\n",
    "\n",
    "a=a**b\n",
    "\n",
    "print(a)\n"
   ]
  },
  {
   "cell_type": "markdown",
   "id": "bdb5e690-0af2-47ef-a6c2-d916701773e5",
   "metadata": {},
   "source": [
    "    - 3.comparsion operators\n",
    "\n",
    "    - Comparison operators compare two values/variables and return a boolean result: True or False. \n",
    "\n",
    "    - ==, !=, >, <, >=, <=,.\r\n",
    "\n"
   ]
  },
  {
   "cell_type": "code",
   "execution_count": 123,
   "id": "0b262028-ac8f-4360-be52-fd64bc1d60b8",
   "metadata": {},
   "outputs": [
    {
     "name": "stdout",
     "output_type": "stream",
     "text": [
      "False\n",
      "False\n",
      "True\n",
      "True\n",
      "True\n",
      "False\n"
     ]
    }
   ],
   "source": [
    "a = 8\n",
    "b = 5\n",
    "\n",
    "\n",
    "print(a == b)\n",
    "\n",
    "print(a <= b)\n",
    "\n",
    "print(a != b)\n",
    "\n",
    "print(a >= b)\n",
    "\n",
    "print(a > b)\n",
    "\n",
    "print(a < b)\n"
   ]
  },
  {
   "cell_type": "code",
   "execution_count": 125,
   "id": "3b66f8bb-afe0-440f-9b0b-47bc753e8529",
   "metadata": {},
   "outputs": [
    {
     "name": "stdout",
     "output_type": "stream",
     "text": [
      "True\n"
     ]
    }
   ],
   "source": [
    "a = 75\n",
    "b = 64\n",
    "\n",
    "print( a > b )"
   ]
  },
  {
   "cell_type": "markdown",
   "id": "ac10fcdf-5ee5-4b12-b167-42ad85b0b958",
   "metadata": {},
   "source": [
    "    - 3.logical operaators\n",
    "\n",
    "    - Logical operators are used to check whether an expression is True or False. They are used in decision-making. \n",
    "\n",
    "        Operator    \t   Example\t             Meaning\n",
    "    \r",
    "         \n",
    "and            \ta and          b \tLogical AND \r\n",
    "True only if both the operands are Tr\n",
    "     u         e\r\n",
    "                 or\ta o  r          b\tLogical R:\r\n",
    "True if at least one of the operands is \n",
    "      T         rue\r",
    "             \n",
    "not\tn             ot a\tLogical NOT:\r\n",
    "True if the operand is False and vice-versa.\r\n",
    "\r\n"
   ]
  },
  {
   "cell_type": "code",
   "execution_count": 155,
   "id": "9a6df0d9-005b-4496-854f-c6809ff6e010",
   "metadata": {},
   "outputs": [
    {
     "data": {
      "text/plain": [
       "False"
      ]
     },
     "execution_count": 155,
     "metadata": {},
     "output_type": "execute_result"
    }
   ],
   "source": [
    "674 > 857 and 467 < 475\n",
    "\n"
   ]
  },
  {
   "cell_type": "code",
   "execution_count": 135,
   "id": "be93e576-a8c1-4e6a-9b4d-f23cfddba5bd",
   "metadata": {},
   "outputs": [
    {
     "data": {
      "text/plain": [
       "True"
      ]
     },
     "execution_count": 135,
     "metadata": {},
     "output_type": "execute_result"
    }
   ],
   "source": [
    "48753 > 47848 or 3789 < 74839"
   ]
  },
  {
   "cell_type": "code",
   "execution_count": 137,
   "id": "e9de54fe-a01d-457f-9685-3155978544a6",
   "metadata": {},
   "outputs": [
    {
     "data": {
      "text/plain": [
       "False"
      ]
     },
     "execution_count": 137,
     "metadata": {},
     "output_type": "execute_result"
    }
   ],
   "source": [
    "748 > 890 or 748 < 683"
   ]
  },
  {
   "cell_type": "code",
   "execution_count": 139,
   "id": "b04ee32a-8677-4b88-89fd-abc6b7577bad",
   "metadata": {},
   "outputs": [
    {
     "data": {
      "text/plain": [
       "True"
      ]
     },
     "execution_count": 139,
     "metadata": {},
     "output_type": "execute_result"
    }
   ],
   "source": [
    "64748 > 8485 & 882 < 388"
   ]
  },
  {
   "cell_type": "code",
   "execution_count": 157,
   "id": "8b745800-e40e-49f9-939c-6a3b29eb5883",
   "metadata": {},
   "outputs": [
    {
     "data": {
      "text/plain": [
       "True"
      ]
     },
     "execution_count": 157,
     "metadata": {},
     "output_type": "execute_result"
    }
   ],
   "source": [
    "not(747 > 647 and 483 < 353)"
   ]
  },
  {
   "cell_type": "code",
   "execution_count": 159,
   "id": "e9c1d2d7-8151-4427-956b-b78d10adc763",
   "metadata": {},
   "outputs": [
    {
     "data": {
      "text/plain": [
       "True"
      ]
     },
     "execution_count": 159,
     "metadata": {},
     "output_type": "execute_result"
    }
   ],
   "source": [
    "not(33678 > 34674 or 45732 < 38839)"
   ]
  },
  {
   "cell_type": "code",
   "execution_count": 163,
   "id": "ab392935-5dde-4560-bbff-6c6bcebc2a5d",
   "metadata": {},
   "outputs": [
    {
     "data": {
      "text/plain": [
       "False"
      ]
     },
     "execution_count": 163,
     "metadata": {},
     "output_type": "execute_result"
    }
   ],
   "source": [
    "688 == 378 or 737 == 838"
   ]
  },
  {
   "cell_type": "code",
   "execution_count": 165,
   "id": "8fad2985-11a4-40ea-957e-3e9d4ec1f8eb",
   "metadata": {},
   "outputs": [
    {
     "data": {
      "text/plain": [
       "False"
      ]
     },
     "execution_count": 165,
     "metadata": {},
     "output_type": "execute_result"
    }
   ],
   "source": [
    "35636 >= 35728 and 272 <= 378"
   ]
  },
  {
   "cell_type": "code",
   "execution_count": null,
   "id": "881f880c-6d03-4dc6-b6d0-db15eab365a2",
   "metadata": {},
   "outputs": [],
   "source": []
  },
  {
   "cell_type": "code",
   "execution_count": null,
   "id": "3a63792b-0232-4945-a8a1-ef0bc3286177",
   "metadata": {},
   "outputs": [],
   "source": []
  }
 ],
 "metadata": {
  "kernelspec": {
   "display_name": "Python 3 (ipykernel)",
   "language": "python",
   "name": "python3"
  },
  "language_info": {
   "codemirror_mode": {
    "name": "ipython",
    "version": 3
   },
   "file_extension": ".py",
   "mimetype": "text/x-python",
   "name": "python",
   "nbconvert_exporter": "python",
   "pygments_lexer": "ipython3",
   "version": "3.12.4"
  }
 },
 "nbformat": 4,
 "nbformat_minor": 5
}
